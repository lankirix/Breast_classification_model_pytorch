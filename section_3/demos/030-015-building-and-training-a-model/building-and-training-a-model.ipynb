{
 "cells": [
  {
   "cell_type": "markdown",
   "metadata": {},
   "source": [
    "# Building a Neural Network\n",
    "In this demo we are going to demonstrate how to build and train a model using PyTorch.\n",
    "\n",
    "This model will be a neural network type."
   ]
  },
  {
   "cell_type": "markdown",
   "metadata": {},
   "source": [
    "# Create a Class\n",
    "REVIEW: Building a neural network is made simple in PyTorch.\n",
    "\n",
    "This is because of the `nn.Module` which we inherit when we create our class to simplify building, managing and organizing our model.\n",
    "\n",
    "This is used to lay the blueprint for our model.\n",
    "\n",
    "### Structure of our Class\n",
    "\n",
    "`__init__()`: This is where we define the layers of our network.\n",
    "\n",
    "\n",
    "`forward()`: This is where we define how data is processed through our layers to get a prediction.\n"
   ]
  },
  {
   "cell_type": "code",
   "execution_count": 1,
   "metadata": {},
   "outputs": [],
   "source": [
    "# Import the nn module\n",
    "import torch.nn as nn "
   ]
  },
  {
   "cell_type": "code",
   "execution_count": 4,
   "metadata": {},
   "outputs": [],
   "source": [
    "# Create a simple class\n",
    "class SimpleNeuralNetwork(nn.Module):\n",
    "    def __init__(self):\n",
    "        super(SimpleNeuralNetwork, self).__init__() # initialize superclass for automatic parameters\n",
    "        \n",
    "        # Define the layers: an input layer, a hidden layer, and an output layer\n",
    "        self.input_layer = nn.Linear(10, 20)  # Input size of 10, output size of 20\n",
    "        self.hidden_layer = nn.Linear(20, 15) # Hidden layer with input size of 20, output size of 15\n",
    "        self.output_layer = nn.Linear(15, 1)  # Output layer with input size of 15, output size of 1\n",
    "        \n",
    "        # Define the activation function (introduces non-linearity into the model)\n",
    "        self.activation = nn.ReLU()\n",
    "\n",
    "    # Define the forward pass\n",
    "    def forward(self, x):\n",
    "        x = self.activation(self.input_layer(x))  # Pass data through the input layer\n",
    "        x = self.activation(self.hidden_layer(x)) # Pass data through the hidden layer\n",
    "        x = self.output_layer(x)                  # Pass data through the output layer (no activation here)\n",
    "        return x"
   ]
  },
  {
   "cell_type": "code",
   "execution_count": 5,
   "metadata": {},
   "outputs": [
    {
     "name": "stdout",
     "output_type": "stream",
     "text": [
      "torch.Size([5, 10])\n"
     ]
    }
   ],
   "source": [
    "# Demonstrate our model with an example\n",
    "import torch\n",
    "\n",
    "# Create a tensor with shape (5, 10) - batch of 5 samples, each with 10 features\n",
    "example_tensor = torch.randn(5, 10)\n",
    "print(example_tensor.size())\n"
   ]
  },
  {
   "cell_type": "code",
   "execution_count": 6,
   "metadata": {},
   "outputs": [
    {
     "name": "stdout",
     "output_type": "stream",
     "text": [
      "torch.Size([5, 20])\n"
     ]
    }
   ],
   "source": [
    "# Create the input layer as it is in our Class\n",
    "input_layer = nn.Linear(10, 20)\n",
    "\n",
    "# Run the example through our input layer\n",
    "input_linear_example = input_layer(example_tensor)\n",
    "print(input_linear_example.size())"
   ]
  },
  {
   "cell_type": "code",
   "execution_count": 7,
   "metadata": {},
   "outputs": [
    {
     "name": "stdout",
     "output_type": "stream",
     "text": [
      "torch.Size([5, 15])\n"
     ]
    }
   ],
   "source": [
    "# Do the same but with the hidden layer\n",
    "hidden_layer = nn.Linear(20, 15)\n",
    "\n",
    "# Run the input_linear_example through hidden layer\n",
    "hidden_linear_example = hidden_layer(input_linear_example)\n",
    "print(hidden_linear_example.size())"
   ]
  },
  {
   "cell_type": "code",
   "execution_count": 8,
   "metadata": {},
   "outputs": [
    {
     "name": "stdout",
     "output_type": "stream",
     "text": [
      "torch.Size([5, 1])\n"
     ]
    }
   ],
   "source": [
    "# Same for the output layer\n",
    "output_layer = nn.Linear(15, 1)\n",
    "\n",
    "# Run hidden_linear_example through output layer\n",
    "ouput_linear_example = output_layer(hidden_linear_example)\n",
    "print(ouput_linear_example.size())"
   ]
  },
  {
   "cell_type": "code",
   "execution_count": 9,
   "metadata": {},
   "outputs": [
    {
     "name": "stdout",
     "output_type": "stream",
     "text": [
      "Before ReLU: tensor([[-0.3290],\n",
      "        [-0.5713],\n",
      "        [-0.2354],\n",
      "        [-0.2109],\n",
      "        [-0.6545]], grad_fn=<AddmmBackward0>)\n",
      "\n",
      "\n"
     ]
    }
   ],
   "source": [
    "# Now with activation layer ReLU befor and after on the output example\n",
    "print(f\"Before ReLU: {ouput_linear_example}\\n\\n\")"
   ]
  },
  {
   "cell_type": "code",
   "execution_count": 10,
   "metadata": {},
   "outputs": [
    {
     "name": "stdout",
     "output_type": "stream",
     "text": [
      "After ReLU: tensor([[0.],\n",
      "        [0.],\n",
      "        [0.],\n",
      "        [0.],\n",
      "        [0.]], grad_fn=<ReluBackward0>)\n"
     ]
    }
   ],
   "source": [
    "# Run through ReLU\n",
    "activation_relu_example = nn.ReLU()(ouput_linear_example)\n",
    "print(f\"After ReLU: {activation_relu_example}\")"
   ]
  },
  {
   "cell_type": "code",
   "execution_count": 11,
   "metadata": {},
   "outputs": [
    {
     "name": "stdout",
     "output_type": "stream",
     "text": [
      "Example Tensor:\n",
      "tensor([[ 0.1024, -1.8336, -1.7543, -0.5734,  0.5418,  1.0997, -0.2192,  0.7156,\n",
      "          1.0483, -2.8812],\n",
      "        [ 0.1703, -1.4464,  0.5141, -1.3117,  0.9519,  0.0720,  1.1400,  1.2621,\n",
      "          0.3628, -0.3148],\n",
      "        [-0.0792, -1.6444,  0.7005, -0.6302,  0.6077,  0.9646, -1.3476, -0.2859,\n",
      "         -0.9585, -0.8945],\n",
      "        [ 1.2888,  0.5228,  0.4574,  1.3263,  0.9254, -0.3607,  0.5194, -1.8860,\n",
      "          1.1081, -0.8059],\n",
      "        [-1.7409,  0.5948,  0.5998,  0.2182, -0.2581,  0.1772,  1.4666, -0.7835,\n",
      "         -0.9679, -1.2991]])\n",
      "\n",
      "Output Tensor:\n",
      "tensor([[-0.1680],\n",
      "        [-0.2246],\n",
      "        [-0.1842],\n",
      "        [-0.1548],\n",
      "        [-0.3066]], grad_fn=<AddmmBackward0>)\n"
     ]
    }
   ],
   "source": [
    "# Create an example with forward\n",
    "\n",
    "# Recreate instance of activation layer\n",
    "activation = nn.ReLU()\n",
    "\n",
    "# Pass example through input layer and apply ReLU\n",
    "x = activation(input_layer(example_tensor))\n",
    "# Pass through hidden layer and apply ReLU \n",
    "x = activation(hidden_layer(x))\n",
    "# Pass through output layer (no activation)\n",
    "output = output_layer(x)\n",
    "\n",
    "print(\"Example Tensor:\")\n",
    "print(example_tensor)\n",
    "print(\"\\nOutput Tensor:\")\n",
    "print(output)"
   ]
  },
  {
   "cell_type": "markdown",
   "metadata": {},
   "source": [
    "# Create the Model\n"
   ]
  },
  {
   "cell_type": "code",
   "execution_count": 12,
   "metadata": {},
   "outputs": [],
   "source": [
    "# Initialize the model\n",
    "model = SimpleNeuralNetwork()\n"
   ]
  },
  {
   "cell_type": "code",
   "execution_count": 13,
   "metadata": {},
   "outputs": [
    {
     "name": "stdout",
     "output_type": "stream",
     "text": [
      "SimpleNeuralNetwork(\n",
      "  (input_layer): Linear(in_features=10, out_features=20, bias=True)\n",
      "  (hidden_layer): Linear(in_features=20, out_features=15, bias=True)\n",
      "  (output_layer): Linear(in_features=15, out_features=1, bias=True)\n",
      "  (activation): ReLU()\n",
      ")\n"
     ]
    }
   ],
   "source": [
    "# Show the layers\n",
    "print(model)"
   ]
  },
  {
   "cell_type": "markdown",
   "metadata": {},
   "source": [
    "# Model Parameters\n",
    "Layers have associate weights and biases.\n",
    "\n",
    "These weights and biases get adjusted during model training.\n",
    "\n",
    "Lucky for us, the adjustments are tracked automatically by PyTorch!"
   ]
  },
  {
   "cell_type": "code",
   "execution_count": 14,
   "metadata": {},
   "outputs": [
    {
     "name": "stdout",
     "output_type": "stream",
     "text": [
      "Layer: input_layer.weight | Size: torch.Size([20, 10]) | Values : tensor([[-0.0844, -0.3053,  0.1548,  0.2131,  0.0208,  0.2116, -0.1799, -0.1977,\n",
      "         -0.1341, -0.2855],\n",
      "        [ 0.2970,  0.0999, -0.2953, -0.0904,  0.2470,  0.3023,  0.0580, -0.3097,\n",
      "         -0.0503,  0.0580]], grad_fn=<SliceBackward0>) \n",
      "\n",
      "Layer: input_layer.bias | Size: torch.Size([20]) | Values : tensor([-0.3052,  0.2432], grad_fn=<SliceBackward0>) \n",
      "\n",
      "Layer: hidden_layer.weight | Size: torch.Size([15, 20]) | Values : tensor([[ 0.2159,  0.1616, -0.2002, -0.0170,  0.0727,  0.1862, -0.0698, -0.0019,\n",
      "         -0.0594,  0.0260, -0.0395,  0.1528, -0.0436,  0.0312, -0.0232,  0.0916,\n",
      "         -0.0545,  0.0179, -0.0076, -0.1277],\n",
      "        [-0.0127,  0.0774,  0.1787,  0.0716, -0.1873,  0.1206, -0.1866, -0.0473,\n",
      "          0.0441, -0.0507, -0.1593, -0.2116,  0.1209,  0.1294, -0.0938,  0.0674,\n",
      "          0.0873,  0.0958,  0.1757,  0.1778]], grad_fn=<SliceBackward0>) \n",
      "\n",
      "Layer: hidden_layer.bias | Size: torch.Size([15]) | Values : tensor([ 0.0591, -0.0297], grad_fn=<SliceBackward0>) \n",
      "\n",
      "Layer: output_layer.weight | Size: torch.Size([1, 15]) | Values : tensor([[-0.1616,  0.1385, -0.2372, -0.1311,  0.2277,  0.0990,  0.1433, -0.1520,\n",
      "         -0.2542, -0.1477,  0.0168,  0.2163, -0.0706,  0.0076,  0.2331]],\n",
      "       grad_fn=<SliceBackward0>) \n",
      "\n",
      "Layer: output_layer.bias | Size: torch.Size([1]) | Values : tensor([0.1707], grad_fn=<SliceBackward0>) \n",
      "\n"
     ]
    }
   ],
   "source": [
    "# Loop through the parameters in human readable\n",
    "for name, param in model.named_parameters():\n",
    "    print(f\"Layer: {name} | Size: {param.size()} | Values : {param[:2]} \\n\")"
   ]
  },
  {
   "cell_type": "code",
   "execution_count": null,
   "metadata": {},
   "outputs": [],
   "source": [
    "# here we see the current shape and values for each layers weight and bias"
   ]
  },
  {
   "cell_type": "code",
   "execution_count": 15,
   "metadata": {},
   "outputs": [
    {
     "name": "stdout",
     "output_type": "stream",
     "text": [
      "Parameter containing:\n",
      "tensor([[-0.0844, -0.3053,  0.1548,  0.2131,  0.0208,  0.2116, -0.1799, -0.1977,\n",
      "         -0.1341, -0.2855],\n",
      "        [ 0.2970,  0.0999, -0.2953, -0.0904,  0.2470,  0.3023,  0.0580, -0.3097,\n",
      "         -0.0503,  0.0580],\n",
      "        [-0.2561, -0.2508,  0.0517,  0.2398,  0.1923, -0.1130,  0.2125,  0.2103,\n",
      "         -0.1056,  0.3034],\n",
      "        [ 0.1113, -0.0728, -0.1901,  0.1724, -0.0782, -0.0456, -0.2717, -0.0684,\n",
      "         -0.0468,  0.0433],\n",
      "        [-0.3044, -0.1415,  0.1279,  0.2272,  0.1885, -0.2075,  0.2344,  0.3054,\n",
      "          0.1794,  0.3083],\n",
      "        [-0.2000,  0.2538,  0.1431, -0.3145, -0.3149, -0.2467, -0.0615,  0.1274,\n",
      "          0.2644, -0.1496],\n",
      "        [ 0.1779,  0.0137, -0.2775, -0.0036,  0.2026,  0.0312,  0.3098, -0.2286,\n",
      "          0.2268, -0.1165],\n",
      "        [ 0.0184,  0.2844,  0.3003,  0.2972, -0.2137, -0.1728, -0.0763, -0.1548,\n",
      "         -0.0730,  0.1322],\n",
      "        [ 0.0892,  0.2742,  0.0974,  0.2932, -0.2656, -0.0285,  0.3114,  0.1736,\n",
      "         -0.0981, -0.1665],\n",
      "        [-0.2941, -0.2994,  0.1755, -0.1584,  0.3070,  0.1664, -0.2852, -0.0921,\n",
      "          0.1574,  0.2689],\n",
      "        [-0.1674, -0.3091, -0.0326,  0.2303,  0.2762, -0.1992, -0.0505, -0.0505,\n",
      "         -0.1281, -0.1746],\n",
      "        [ 0.2945, -0.2287,  0.0249, -0.2966, -0.1091, -0.0519, -0.1199, -0.2658,\n",
      "          0.0092,  0.2510],\n",
      "        [ 0.0622, -0.2681, -0.0063,  0.2261, -0.1994, -0.2931,  0.0658, -0.2327,\n",
      "          0.0885, -0.2582],\n",
      "        [ 0.0395,  0.1241, -0.1163, -0.0670,  0.0842, -0.2305,  0.0903, -0.0224,\n",
      "         -0.2810,  0.0951],\n",
      "        [ 0.2911, -0.0334,  0.0706,  0.2182, -0.3133,  0.3086,  0.1582,  0.1265,\n",
      "         -0.2703, -0.2132],\n",
      "        [-0.0848, -0.2000, -0.1281,  0.2942, -0.2911, -0.3019,  0.2083, -0.1083,\n",
      "         -0.1067, -0.2062],\n",
      "        [-0.0367, -0.1632,  0.0957, -0.0121, -0.1742,  0.1149, -0.1481, -0.0942,\n",
      "          0.0097, -0.2638],\n",
      "        [ 0.2293,  0.2919, -0.1041,  0.2074, -0.2403,  0.2370,  0.3153,  0.0174,\n",
      "          0.2311, -0.1884],\n",
      "        [ 0.0411,  0.1741, -0.1002,  0.2748,  0.2428, -0.0662, -0.2255,  0.1003,\n",
      "         -0.1299,  0.0583],\n",
      "        [-0.3032, -0.1303,  0.2837, -0.2350,  0.1796,  0.2453, -0.2140,  0.1519,\n",
      "         -0.3061,  0.2149]], requires_grad=True)\n",
      "Parameter containing:\n",
      "tensor([-0.3052,  0.2432, -0.2778,  0.1838,  0.1686, -0.1969, -0.1657,  0.1185,\n",
      "         0.0261, -0.1202, -0.3066, -0.2241, -0.2573,  0.0221,  0.0607,  0.2116,\n",
      "         0.1307,  0.2444, -0.0828, -0.0918], requires_grad=True)\n",
      "Parameter containing:\n",
      "tensor([[ 2.1589e-01,  1.6156e-01, -2.0017e-01, -1.6963e-02,  7.2690e-02,\n",
      "          1.8617e-01, -6.9801e-02, -1.9231e-03, -5.9428e-02,  2.6043e-02,\n",
      "         -3.9453e-02,  1.5281e-01, -4.3571e-02,  3.1163e-02, -2.3237e-02,\n",
      "          9.1641e-02, -5.4460e-02,  1.7895e-02, -7.5540e-03, -1.2769e-01],\n",
      "        [-1.2683e-02,  7.7398e-02,  1.7875e-01,  7.1550e-02, -1.8734e-01,\n",
      "          1.2064e-01, -1.8663e-01, -4.7255e-02,  4.4080e-02, -5.0702e-02,\n",
      "         -1.5930e-01, -2.1159e-01,  1.2095e-01,  1.2942e-01, -9.3790e-02,\n",
      "          6.7365e-02,  8.7301e-02,  9.5815e-02,  1.7569e-01,  1.7784e-01],\n",
      "        [ 6.6235e-02, -1.1433e-01, -1.1626e-01, -1.0368e-01, -2.1982e-01,\n",
      "          5.3127e-02, -2.1889e-01, -7.9434e-02, -1.9860e-01, -8.7291e-02,\n",
      "          1.9564e-01, -6.6098e-02, -5.9829e-02,  3.1008e-02, -3.8085e-02,\n",
      "         -6.8016e-03,  2.9107e-02,  1.0818e-01, -1.2612e-01, -3.1977e-02],\n",
      "        [-7.7103e-03,  1.9107e-01, -1.0948e-01,  1.9718e-01,  8.1198e-02,\n",
      "         -8.3004e-02, -1.3345e-01,  2.0565e-01,  7.0205e-02,  1.0946e-01,\n",
      "         -1.2230e-01, -1.0710e-01, -2.4929e-02,  1.7115e-01,  1.3891e-01,\n",
      "         -1.8037e-01,  1.6741e-01, -6.5952e-02,  2.0787e-01, -8.3725e-02],\n",
      "        [-1.3148e-01,  2.0461e-01, -1.4551e-01, -5.1822e-02, -6.8758e-02,\n",
      "         -1.5727e-01,  2.0502e-01,  1.1474e-01, -1.1058e-01,  2.1127e-01,\n",
      "         -2.6472e-02,  1.3982e-02, -1.3116e-01, -2.5760e-02, -1.8556e-01,\n",
      "         -1.2359e-01,  9.4508e-02,  8.5075e-02, -4.4428e-02,  1.5082e-01],\n",
      "        [-1.8693e-01,  4.6682e-02, -1.1636e-01,  1.3902e-01,  1.0176e-01,\n",
      "          9.3514e-02,  1.3938e-01,  8.7126e-02, -3.2570e-02, -1.0031e-02,\n",
      "         -1.9421e-01, -8.2368e-04,  4.3836e-02, -1.5369e-01, -1.8111e-01,\n",
      "          1.0413e-01, -1.3528e-01,  1.9676e-01,  2.0589e-01, -1.9328e-01],\n",
      "        [-4.0946e-02,  1.8139e-01, -1.0585e-01, -5.1619e-02, -6.8792e-02,\n",
      "         -1.7638e-01, -6.3842e-02,  1.3562e-01,  5.8203e-02,  1.0476e-02,\n",
      "         -1.7719e-02,  9.2331e-02, -6.9641e-02, -7.1361e-02,  7.6389e-03,\n",
      "          7.3525e-02,  8.7855e-02, -1.6695e-01,  4.1685e-02, -1.7067e-01],\n",
      "        [ 1.6176e-01,  5.3252e-02,  5.5069e-04, -1.4519e-01, -5.9896e-02,\n",
      "         -8.1636e-02, -5.7327e-02, -1.3638e-01, -1.3848e-01, -1.6478e-01,\n",
      "          7.5787e-02, -9.1329e-02, -3.1584e-02,  3.9179e-02,  1.2384e-01,\n",
      "         -1.8999e-01,  4.2082e-02, -1.2443e-01,  3.9350e-02, -9.3774e-02],\n",
      "        [ 8.7391e-02,  1.2690e-01,  1.5704e-01, -1.6156e-01, -3.0862e-02,\n",
      "         -1.7663e-01,  1.7080e-01, -1.6926e-01,  1.1543e-01,  1.2945e-01,\n",
      "         -1.6412e-01, -2.0536e-01,  1.2995e-01, -2.4943e-02, -2.2696e-02,\n",
      "          4.9806e-02,  6.2297e-02,  1.8381e-01,  1.9212e-01, -2.0867e-01],\n",
      "        [-1.8781e-02,  1.3565e-01,  1.2628e-01, -1.4186e-01,  6.5498e-02,\n",
      "         -1.9003e-01,  1.1105e-01,  2.1117e-01, -6.1699e-02, -1.7469e-01,\n",
      "         -1.1368e-01,  2.3900e-02,  1.7171e-01, -6.1338e-02,  2.5816e-03,\n",
      "          2.2310e-01,  1.4301e-01, -8.4249e-02, -1.5263e-01,  1.3973e-01],\n",
      "        [-3.8717e-03,  3.3650e-02,  2.8787e-02, -1.3646e-01,  3.4532e-02,\n",
      "          1.1091e-01, -6.2407e-03, -5.4296e-02,  3.1588e-02, -1.8015e-01,\n",
      "         -5.7665e-02,  6.2346e-05,  1.3151e-01,  1.7855e-01,  1.0122e-01,\n",
      "         -1.7303e-02, -5.5986e-02, -6.2765e-02, -3.7785e-02, -5.9091e-02],\n",
      "        [ 3.2834e-03,  1.3333e-01, -1.6494e-01, -1.0772e-01,  2.0034e-01,\n",
      "         -3.3356e-02,  2.1129e-01, -1.7313e-01, -1.8516e-01, -1.7001e-01,\n",
      "          4.5753e-02, -2.1416e-01, -1.7523e-01,  1.2250e-01,  5.2618e-02,\n",
      "         -5.4612e-02, -1.2376e-01,  4.6746e-02,  3.0089e-02, -5.9359e-02],\n",
      "        [-1.3996e-01, -4.8138e-02,  1.0775e-01, -6.3750e-02, -8.3030e-02,\n",
      "         -1.6931e-01,  6.0886e-02, -5.3558e-02,  1.5305e-01,  4.0523e-02,\n",
      "         -2.0840e-01, -1.1558e-01,  2.6553e-02,  1.9689e-01,  2.3731e-02,\n",
      "         -9.1910e-02, -1.1314e-01,  9.2469e-02,  7.9365e-02,  1.1460e-01],\n",
      "        [-9.5947e-03,  9.0498e-03,  2.1553e-01,  5.0974e-03, -2.1347e-01,\n",
      "          2.1684e-02,  1.2402e-01, -8.9648e-03,  1.1551e-01,  4.2760e-02,\n",
      "          1.6453e-01,  3.8938e-02,  8.3707e-02,  1.5327e-01,  1.6223e-01,\n",
      "          1.0798e-01,  1.1116e-01, -1.5624e-01,  2.1551e-01,  1.7793e-01],\n",
      "        [-1.9458e-01, -1.8268e-01, -1.7108e-01,  1.0841e-01, -1.4429e-01,\n",
      "         -7.1220e-02, -1.1258e-01,  1.1313e-01,  8.0313e-02,  3.4736e-02,\n",
      "          1.8075e-01,  8.3463e-02,  1.8098e-01,  3.4474e-02, -1.3854e-01,\n",
      "         -9.1383e-02, -1.2726e-01, -1.7637e-01, -7.6465e-02,  1.1785e-01]],\n",
      "       requires_grad=True)\n",
      "Parameter containing:\n",
      "tensor([ 0.0591, -0.0297, -0.1806,  0.1790, -0.0020, -0.1013,  0.1768,  0.0597,\n",
      "         0.1810, -0.0102, -0.1534,  0.0073,  0.0601,  0.1149, -0.1391],\n",
      "       requires_grad=True)\n",
      "Parameter containing:\n",
      "tensor([[-0.1616,  0.1385, -0.2372, -0.1311,  0.2277,  0.0990,  0.1433, -0.1520,\n",
      "         -0.2542, -0.1477,  0.0168,  0.2163, -0.0706,  0.0076,  0.2331]],\n",
      "       requires_grad=True)\n",
      "Parameter containing:\n",
      "tensor([0.1707], requires_grad=True)\n"
     ]
    }
   ],
   "source": [
    "# Another way to display parameters\n",
    "for param in model.parameters():\n",
    "    print(param)"
   ]
  },
  {
   "cell_type": "markdown",
   "metadata": {},
   "source": [
    "#### Review Autograd\n",
    "In PyTorch, autograd automatically computes gradients, which is essential for training a neural network by adjusting its weights to improve predictions.\n",
    "\n",
    "`model.parameters()` provides access to the model’s weights and biases, which are PyTorch tensors that have `requires_grad=True`. \n",
    "\n",
    "This means they automatically participate in PyTorch's autograd system, which tracks operations on these tensors to build a computation graph.\n",
    "\n",
    "Very Powerful!"
   ]
  },
  {
   "cell_type": "markdown",
   "metadata": {},
   "source": [
    "# Define a Loss Function and Optimizer\n",
    "\n",
    "REVIEW:\n",
    "\n",
    "Loss Function: Measures how well the model's predictions match the actual data, guiding the model on how much to adjust to improve.\n",
    "\n",
    "\n",
    "Optimizer: Updates the model's parameters based on the loss, using methods like gradient descent to minimize errors and improve performance over time."
   ]
  },
  {
   "cell_type": "code",
   "execution_count": 16,
   "metadata": {},
   "outputs": [],
   "source": [
    "# Create a common loss function for an Image Classifier\n",
    "\n",
    "# Part of the nn module\n",
    "import torch.nn as nn"
   ]
  },
  {
   "cell_type": "code",
   "execution_count": 17,
   "metadata": {},
   "outputs": [],
   "source": [
    "# Create an instance of the loss function\n",
    "criterion = nn.CrossEntropyLoss() # commonly used for classification "
   ]
  },
  {
   "cell_type": "code",
   "execution_count": 18,
   "metadata": {},
   "outputs": [],
   "source": [
    "# Import optimizer modules\n",
    "import torch.optim as optim"
   ]
  },
  {
   "cell_type": "code",
   "execution_count": 19,
   "metadata": {},
   "outputs": [],
   "source": [
    "# Create an optimizer instance and provide it the parameters\n",
    "optimizer = optim.SGD(model.parameters(), lr=0.001, momentum=0.9) # SGD is commonly used in classifcation"
   ]
  },
  {
   "cell_type": "markdown",
   "metadata": {},
   "source": [
    "# Go through the steps of Training a Model\n",
    "\n",
    "But first we must create our data and transformations.\n",
    "\n",
    "We are going to use the MNIST preloaded Dataset."
   ]
  },
  {
   "cell_type": "code",
   "execution_count": 20,
   "metadata": {},
   "outputs": [
    {
     "name": "stderr",
     "output_type": "stream",
     "text": [
      "100%|██████████| 26.4M/26.4M [01:01<00:00, 427kB/s]\n",
      "100%|██████████| 29.5k/29.5k [00:00<00:00, 223kB/s]\n",
      "100%|██████████| 4.42M/4.42M [00:10<00:00, 434kB/s]\n",
      "100%|██████████| 5.15k/5.15k [00:00<00:00, 8.64MB/s]\n"
     ]
    }
   ],
   "source": [
    "import torchvision.datasets\n",
    "import torch\n",
    "import torchvision\n",
    "from torchvision.transforms import v2\n",
    "\n",
    "# Define Transforms. Already resized.\n",
    "transform = v2.Compose(\n",
    "    [v2.ToImage(), \n",
    "     v2.ToDtype(torch.float32, scale=True),\n",
    "     v2.Normalize((0.5,), (0.5,))]) # These are grayscale images\n",
    "\n",
    "# Training dataset and dataloader\n",
    "train_dataset = torchvision.datasets.FashionMNIST(root='./data', train=True,\n",
    "                                        download=True, transform=transform)\n",
    "train_loader = torch.utils.data.DataLoader(train_dataset, batch_size=32,\n",
    "                                          shuffle=True, num_workers=1)\n",
    "\n",
    "# Validation dataset and dataloader\n",
    "val_dataset = torchvision.datasets.FashionMNIST(root='./data', train=False,\n",
    "                                       download=True, transform=transform)\n",
    "val_loader = torch.utils.data.DataLoader(val_dataset, batch_size=32,\n",
    "                                         shuffle=False, num_workers=1)\n"
   ]
  },
  {
   "cell_type": "markdown",
   "metadata": {},
   "source": [
    "# Create a NN for an Image Classifier\n",
    "Here we are going to create a Neural Network to train an image classifcation model.\n",
    "\n"
   ]
  },
  {
   "cell_type": "code",
   "execution_count": 21,
   "metadata": {},
   "outputs": [],
   "source": [
    "# Create the Class\n",
    "import torch.nn as nn\n",
    "# This module simplifies a way to import Operations (Activation Functions)\n",
    "import torch.nn.functional as F \n",
    "\n",
    "\n",
    "class ImageClassificationNet(nn.Module):\n",
    "    def __init__(self):\n",
    "        super(ImageClassificationNet, self).__init__()\n",
    "        # Takes an input with 1 channel , outputs 6 feature maps, uses a 5x5 kernel\n",
    "        self.conv1 = nn.Conv2d(1, 6, 5)\n",
    "        # Takes 6 input feature maps from the previous layer, outputs 16 feature maps, uses a 5x5 kernel\n",
    "        self.conv2 = nn.Conv2d(6, 16, 5)\n",
    "        # Define a max pooling layer to downsample the feature maps by a factor of 2\n",
    "        self.pool = nn.MaxPool2d(2, 2)\n",
    "        # Takes the flattened output from the convolutional layers (16 feature maps of size 5x5) and outputs 120 units\n",
    "        self.fc1 = nn.Linear(16 * 4 * 4, 120)\n",
    "        # Define the second fully connected layer, which maps 120 units to 84 units\n",
    "        self.fc2 = nn.Linear(120, 84)\n",
    "        # 10 classes for classification\n",
    "        self.fc3 = nn.Linear(84, 10)\n",
    "\n",
    "    def forward(self, x):\n",
    "        # Pass input `x` through the first convolutional layer, apply ReLU activation, then apply max pooling\n",
    "        x = self.pool(F.relu(self.conv1(x)))\n",
    "        # Pass the result through the second convolutional layer, apply ReLU activation, then apply max pooling\n",
    "        x = self.pool(F.relu(self.conv2(x)))\n",
    "        # Flatten the feature maps into a 1D vector, keeping the batch dimension\n",
    "        x = torch.flatten(x, 1)\n",
    "        # Pass through the first fully connected layer and apply ReLU activation\n",
    "        x = F.relu(self.fc1(x))\n",
    "        # Pass through the second fully connected layer and apply ReLU activation\n",
    "        x = F.relu(self.fc2(x))\n",
    "        # Pass through the third fully connected layer to get the output (raw scores for each class)\n",
    "        x = self.fc3(x)\n",
    "        # Return the output scores (logits) for each class\n",
    "        return x\n"
   ]
  },
  {
   "cell_type": "markdown",
   "metadata": {},
   "source": [
    "# Create the Model"
   ]
  },
  {
   "cell_type": "code",
   "execution_count": 22,
   "metadata": {},
   "outputs": [],
   "source": [
    "# Remember how to check for GPU?\n",
    "import torch\n",
    "\n",
    "# Set the device\n",
    "device = torch.device(\"cuda\" if torch.cuda.is_available() else \"cpu\")"
   ]
  },
  {
   "cell_type": "code",
   "execution_count": 23,
   "metadata": {},
   "outputs": [
    {
     "name": "stdout",
     "output_type": "stream",
     "text": [
      "ImageClassificationNet(\n",
      "  (conv1): Conv2d(1, 6, kernel_size=(5, 5), stride=(1, 1))\n",
      "  (conv2): Conv2d(6, 16, kernel_size=(5, 5), stride=(1, 1))\n",
      "  (pool): MaxPool2d(kernel_size=2, stride=2, padding=0, dilation=1, ceil_mode=False)\n",
      "  (fc1): Linear(in_features=256, out_features=120, bias=True)\n",
      "  (fc2): Linear(in_features=120, out_features=84, bias=True)\n",
      "  (fc3): Linear(in_features=84, out_features=10, bias=True)\n",
      ")\n"
     ]
    }
   ],
   "source": [
    "# Creates an instance of our model\n",
    "model = ImageClassificationNet().to(device)\n",
    "\n",
    "# Print it\n",
    "print(model)"
   ]
  },
  {
   "cell_type": "markdown",
   "metadata": {},
   "source": [
    "# Loss Funtion and Optimizer\n",
    "Use same as above"
   ]
  },
  {
   "cell_type": "code",
   "execution_count": 24,
   "metadata": {},
   "outputs": [],
   "source": [
    "import torch.optim as optim\n",
    "\n",
    "criterion = nn.CrossEntropyLoss()\n",
    "optimizer = optim.SGD(model.parameters(), lr=0.001, momentum=0.9)"
   ]
  },
  {
   "cell_type": "markdown",
   "metadata": {},
   "source": [
    "# Create a Training Loop\n",
    "A training loop in PyTorch is the process of iteratively feeding data through a model, calculating the loss, and updating the model’s parameters to minimize that loss. \n",
    "\n",
    "This loop continues for a set number of epochs or until the model reaches satisfactory performance on the training data."
   ]
  },
  {
   "cell_type": "code",
   "execution_count": 25,
   "metadata": {},
   "outputs": [],
   "source": [
    "# Define our number of training loops\n",
    "N_EPOCHS = 3"
   ]
  },
  {
   "cell_type": "code",
   "execution_count": 27,
   "metadata": {},
   "outputs": [
    {
     "name": "stdout",
     "output_type": "stream",
     "text": [
      "Epoch: 0 Loss: 0.5192572044928868\n",
      "Epoch: 1 Loss: 0.4590302967786789\n",
      "Epoch: 2 Loss: 0.4146494739929835\n"
     ]
    }
   ],
   "source": [
    "for epoch in range(N_EPOCHS):  # Loop over the dataset N_EPOCH times\n",
    "    \n",
    "    running_loss = 0.0  # Initialize the running loss for the current epoch\n",
    "    \n",
    "    # Loop over the training data in batches\n",
    "    for i, data in enumerate(train_loader, 0):\n",
    "        inputs, labels = data  # Unpack the data; inputs are the images, labels are the classes\n",
    "        \n",
    "        optimizer.zero_grad()  # Clear the gradients for the optimizer to avoid accumulation from previous steps\n",
    "\n",
    "        outputs = model(inputs)  # Forward pass: compute the model's predictions on the inputs\n",
    "        loss = criterion(outputs, labels)  # Calculate the loss by comparing predictions to true labels\n",
    "        loss.backward()  # Backward pass: compute gradients of the loss with respect to model parameters\n",
    "        optimizer.step()  # Update model parameters based on the computed gradients\n",
    "        \n",
    "        running_loss += loss.item()  # Accumulate the loss for the current epoch\n",
    "\n",
    "    # Print the average loss for this epoch by dividing the accumulated loss by the number of batches\n",
    "    print(f\"Epoch: {epoch} Loss: {running_loss/len(train_loader)}\")\n"
   ]
  },
  {
   "cell_type": "markdown",
   "metadata": {},
   "source": [
    "# Create a Training Loop with Validation"
   ]
  },
  {
   "cell_type": "code",
   "execution_count": 28,
   "metadata": {},
   "outputs": [
    {
     "name": "stdout",
     "output_type": "stream",
     "text": [
      "Epoch: 0 Train Loss: 0.3841264021197955 Val Loss: 0.40704268309921504\n",
      "Epoch: 1 Train Loss: 0.36037739374041555 Val Loss: 0.38993886329781136\n",
      "Epoch: 2 Train Loss: 0.3394376523196697 Val Loss: 0.3848546820755203\n"
     ]
    }
   ],
   "source": [
    "for epoch in range(N_EPOCHS):  # Loop over the dataset N_EPOCH times\n",
    "    \n",
    "    ####### TRAINING\n",
    "    training_loss = 0.0  # Initialize the training loss for the current epoch\n",
    "    # Set the model to training mode\n",
    "    model.train()\n",
    "    # Loop over the training data in batches\n",
    "    for i, data in enumerate(train_loader, 0):\n",
    "        inputs, labels = data  # Unpack the data; inputs are the images, labels are the classes\n",
    "        \n",
    "        optimizer.zero_grad()  # Clear the gradients for the optimizer to avoid accumulation from previous steps\n",
    "\n",
    "        outputs = model(inputs)  # Forward pass: compute the model's predictions on the inputs\n",
    "        loss = criterion(outputs, labels)  # Calculate the loss by comparing predictions to true labels\n",
    "        loss.backward()  # Backward pass: compute gradients of the loss with respect to model parameters\n",
    "        optimizer.step()  # Update model parameters based on the computed gradients\n",
    "        \n",
    "        training_loss += loss.item()  # Accumulate the training loss for the current epoch\n",
    "\n",
    "    ######## VALIDATION\n",
    "    val_loss = 0.0 # Initialize the validation loss for the current epoch\n",
    "    # Set the model to evaluation \n",
    "    model.eval()\n",
    "\n",
    "    # Loop over the validation data in batches\n",
    "    for i, data in enumerate(val_loader, 0):\n",
    "        inputs, labels = data  # Unpack the data like we do above\n",
    "        \n",
    "        outputs = model(inputs)  # Compute predictions\n",
    "        loss = criterion(outputs, labels)  # Calculate the loss by\n",
    "        \n",
    "        #### NOTICE we do not compute gradients and/or adjust weights #### \n",
    "        val_loss += loss.item()  # Accumulate the loss for the current epoch\n",
    "\n",
    "    # Print the training loss and the val loss\n",
    "    print(f\"Epoch: {epoch} Train Loss: {training_loss/len(train_loader)} Val Loss: {val_loss/len(val_loader)}\")"
   ]
  },
  {
   "cell_type": "markdown",
   "metadata": {},
   "source": [
    "# About Loss\n",
    "If validation continues to decrease, its performing well.\n",
    "\n",
    "If training continues to decrease but validation does not, its likely that its overfitting.\n",
    "\n",
    "Likely we would need many more epochs to train an accurate model."
   ]
  },
  {
   "cell_type": "markdown",
   "metadata": {},
   "source": []
  }
 ],
 "metadata": {
  "kernelspec": {
   "display_name": "pytorch_env",
   "language": "python",
   "name": "python3"
  },
  "language_info": {
   "codemirror_mode": {
    "name": "ipython",
    "version": 3
   },
   "file_extension": ".py",
   "mimetype": "text/x-python",
   "name": "python",
   "nbconvert_exporter": "python",
   "pygments_lexer": "ipython3",
   "version": "3.13.5"
  }
 },
 "nbformat": 4,
 "nbformat_minor": 2
}
