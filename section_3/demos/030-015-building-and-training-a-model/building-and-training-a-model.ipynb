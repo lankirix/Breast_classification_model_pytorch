{
 "cells": [
  {
   "cell_type": "markdown",
   "metadata": {},
   "source": [
    "# Building a Neural Network\n",
    "In this demo we are going to demonstrate how to build and train a model using PyTorch.\n",
    "\n",
    "This model will be a neural network type."
   ]
  },
  {
   "cell_type": "markdown",
   "metadata": {},
   "source": [
    "# Create a Class\n",
    "REVIEW: Building a neural network is made simple in PyTorch.\n",
    "\n",
    "This is because of the `nn.Module` which we inherit when we create our class to simplify building, managing and organizing our model.\n",
    "\n",
    "This is used to lay the blueprint for our model.\n",
    "\n",
    "### Structure of our Class\n",
    "\n",
    "`__init__()`: This is where we define the layers of our network.\n",
    "\n",
    "\n",
    "`forward()`: This is where we define how data is processed through our layers to get a prediction.\n"
   ]
  },
  {
   "cell_type": "code",
   "execution_count": 2,
   "metadata": {},
   "outputs": [],
   "source": [
    "# Import the nn module\n",
    "import torch.nn as nn "
   ]
  },
  {
   "cell_type": "code",
   "execution_count": 3,
   "metadata": {},
   "outputs": [],
   "source": [
    "# Create a simple class\n",
    "class SimpleNeuralNetwork(nn.Module):\n",
    "    def __init__(self):\n",
    "        super(SimpleNeuralNetwork, self).__init__() # initialize superclass for automatic parameters\n",
    "        \n",
    "        # Define the layers: an input layer, a hidden layer, and an output layer\n",
    "        self.input_layer = nn.Linear(10, 20)  # Input size of 10, output size of 20\n",
    "        self.hidden_layer = nn.Linear(20, 15) # Hidden layer with input size of 20, output size of 15\n",
    "        self.output_layer = nn.Linear(15, 1)  # Output layer with input size of 15, output size of 1\n",
    "        \n",
    "        # Define the activation function (introduces non-linearity into the model)\n",
    "        self.activation = nn.ReLU()\n",
    "\n",
    "    # Define the forward pass\n",
    "    def forward(self, x):\n",
    "        x = self.activation(self.input_layer(x))  # Pass data through the input layer\n",
    "        x = self.activation(self.hidden_layer(x)) # Pass data through the hidden layer\n",
    "        x = self.output_layer(x)                  # Pass data through the output layer (no activation here)\n",
    "        return x"
   ]
  },
  {
   "cell_type": "code",
   "execution_count": null,
   "metadata": {},
   "outputs": [],
   "source": [
    "# Demonstrate our model with an example\n",
    "import torch\n",
    "\n",
    "# Create a tensor with shape (5, 10) - batch of 5 samples, each with 10 features\n",
    "example_tensor = torch.randn(5, 10)\n",
    "print(example_tensor.size())\n"
   ]
  },
  {
   "cell_type": "code",
   "execution_count": null,
   "metadata": {},
   "outputs": [],
   "source": [
    "# Create the input layer as it is in our Class\n",
    "input_layer = nn.Linear(10, 20)\n",
    "\n",
    "# Run the example through our input layer\n",
    "input_linear_example = input_layer(example_tensor)\n",
    "print(input_linear_example.size())"
   ]
  },
  {
   "cell_type": "code",
   "execution_count": null,
   "metadata": {},
   "outputs": [],
   "source": [
    "# Do the same but with the hidden layer\n",
    "hidden_layer = nn.Linear(20, 15)\n",
    "\n",
    "# Run the input_linear_example through hidden layer\n",
    "hidden_linear_example = hidden_layer(input_linear_example)\n",
    "print(hidden_linear_example.size())"
   ]
  },
  {
   "cell_type": "code",
   "execution_count": null,
   "metadata": {},
   "outputs": [],
   "source": [
    "# Same for the output layer\n",
    "output_layer = nn.Linear(15, 1)\n",
    "\n",
    "# Run hidden_linear_example through output layer\n",
    "ouput_linear_example = output_layer(hidden_linear_example)\n",
    "print(ouput_linear_example.size())"
   ]
  },
  {
   "cell_type": "code",
   "execution_count": null,
   "metadata": {},
   "outputs": [],
   "source": [
    "# Now with activation layer ReLU befor and after on the output example\n",
    "print(f\"Before ReLU: {ouput_linear_example}\\n\\n\")"
   ]
  },
  {
   "cell_type": "code",
   "execution_count": null,
   "metadata": {},
   "outputs": [],
   "source": [
    "# Run through ReLU\n",
    "activation_relu_example = nn.ReLU()(ouput_linear_example)\n",
    "print(f\"After ReLU: {activation_relu_example}\")"
   ]
  },
  {
   "cell_type": "code",
   "execution_count": null,
   "metadata": {},
   "outputs": [],
   "source": [
    "# Create an example with forward\n",
    "\n",
    "# Recreate instance of activation layer\n",
    "activation = nn.ReLU()\n",
    "\n",
    "# Pass example through input layer and apply ReLU\n",
    "x = activation(input_layer(example_tensor))\n",
    "# Pass through hidden layer and apply ReLU \n",
    "x = activation(hidden_layer(x))\n",
    "# Pass through output layer (no activation)\n",
    "output = output_layer(x)\n",
    "\n",
    "print(\"Example Tensor:\")\n",
    "print(example_tensor)\n",
    "print(\"\\nOutput Tensor:\")\n",
    "print(output)"
   ]
  },
  {
   "cell_type": "markdown",
   "metadata": {},
   "source": [
    "# Create the Model\n"
   ]
  },
  {
   "cell_type": "code",
   "execution_count": 33,
   "metadata": {},
   "outputs": [],
   "source": [
    "# Initialize the model\n",
    "model = SimpleNeuralNetwork()\n"
   ]
  },
  {
   "cell_type": "code",
   "execution_count": null,
   "metadata": {},
   "outputs": [],
   "source": [
    "# Show the layers\n",
    "print(model)"
   ]
  },
  {
   "cell_type": "markdown",
   "metadata": {},
   "source": [
    "# Model Parameters\n",
    "Layers have associate weights and biases.\n",
    "\n",
    "These weights and biases get adjusted during model training.\n",
    "\n",
    "Lucky for us, the adjustments are tracked automatically by PyTorch!"
   ]
  },
  {
   "cell_type": "code",
   "execution_count": null,
   "metadata": {},
   "outputs": [],
   "source": [
    "# Loop through the parameters in human readable\n",
    "for name, param in model.named_parameters():\n",
    "    print(f\"Layer: {name} | Size: {param.size()} | Values : {param[:2]} \\n\")"
   ]
  },
  {
   "cell_type": "code",
   "execution_count": null,
   "metadata": {},
   "outputs": [],
   "source": [
    "# here we see the current shape and values for each layers weight and bias"
   ]
  },
  {
   "cell_type": "code",
   "execution_count": null,
   "metadata": {},
   "outputs": [],
   "source": [
    "# Another way to display parameters\n",
    "for param in model.parameters():\n",
    "    print(param)"
   ]
  },
  {
   "cell_type": "markdown",
   "metadata": {},
   "source": [
    "#### Review Autograd\n",
    "In PyTorch, autograd automatically computes gradients, which is essential for training a neural network by adjusting its weights to improve predictions.\n",
    "\n",
    "`model.parameters()` provides access to the model’s weights and biases, which are PyTorch tensors that have `requires_grad=True`. \n",
    "\n",
    "This means they automatically participate in PyTorch's autograd system, which tracks operations on these tensors to build a computation graph.\n",
    "\n",
    "Very Powerful!"
   ]
  },
  {
   "cell_type": "markdown",
   "metadata": {},
   "source": [
    "# Define a Loss Function and Optimizer\n",
    "\n",
    "REVIEW:\n",
    "\n",
    "Loss Function: Measures how well the model's predictions match the actual data, guiding the model on how much to adjust to improve.\n",
    "\n",
    "\n",
    "Optimizer: Updates the model's parameters based on the loss, using methods like gradient descent to minimize errors and improve performance over time."
   ]
  },
  {
   "cell_type": "code",
   "execution_count": 39,
   "metadata": {},
   "outputs": [],
   "source": [
    "# Create a common loss function for an Image Classifier\n",
    "\n",
    "# Part of the nn module\n",
    "import torch.nn as nn"
   ]
  },
  {
   "cell_type": "code",
   "execution_count": 41,
   "metadata": {},
   "outputs": [],
   "source": [
    "# Create an instance of the loss function\n",
    "criterion = nn.CrossEntropyLoss() # commonly used for classification "
   ]
  },
  {
   "cell_type": "code",
   "execution_count": 42,
   "metadata": {},
   "outputs": [],
   "source": [
    "# Import optimizer modules\n",
    "import torch.optim as optim"
   ]
  },
  {
   "cell_type": "code",
   "execution_count": 57,
   "metadata": {},
   "outputs": [],
   "source": [
    "# Create an optimizer instance and provide it the parameters\n",
    "optimizer = optim.SGD(model.parameters(), lr=0.001, momentum=0.9) # SGD is commonly used in classifcation"
   ]
  },
  {
   "cell_type": "markdown",
   "metadata": {},
   "source": [
    "# Go through the steps of Training a Model\n",
    "\n",
    "But first we must create our data and transformations.\n",
    "\n",
    "We are going to use the MNIST preloaded Dataset."
   ]
  },
  {
   "cell_type": "code",
   "execution_count": 1,
   "metadata": {},
   "outputs": [],
   "source": [
    "import torchvision.datasets\n",
    "import torch\n",
    "import torchvision\n",
    "from torchvision.transforms import v2\n",
    "\n",
    "# Define Transforms. Already resized.\n",
    "transform = v2.Compose(\n",
    "    [v2.ToImage(), \n",
    "     v2.ToDtype(torch.float32, scale=True),\n",
    "     v2.Normalize((0.5,), (0.5,))]) # These are grayscale images\n",
    "\n",
    "# Training dataset and dataloader\n",
    "train_dataset = torchvision.datasets.FashionMNIST(root='./data', train=True,\n",
    "                                        download=True, transform=transform)\n",
    "train_loader = torch.utils.data.DataLoader(train_dataset, batch_size=32,\n",
    "                                          shuffle=True, num_workers=1)\n",
    "\n",
    "# Validation dataset and dataloader\n",
    "val_dataset = torchvision.datasets.FashionMNIST(root='./data', train=False,\n",
    "                                       download=True, transform=transform)\n",
    "val_loader = torch.utils.data.DataLoader(val_dataset, batch_size=32,\n",
    "                                         shuffle=False, num_workers=1)\n"
   ]
  },
  {
   "cell_type": "markdown",
   "metadata": {},
   "source": [
    "# Create a NN for an Image Classifier\n",
    "Here we are going to create a Neural Network to train an image classifcation model.\n",
    "\n"
   ]
  },
  {
   "cell_type": "code",
   "execution_count": 2,
   "metadata": {},
   "outputs": [],
   "source": [
    "# Create the Class\n",
    "import torch.nn as nn\n",
    "# This module simplifies a way to import Operations (Activation Functions)\n",
    "import torch.nn.functional as F \n",
    "\n",
    "\n",
    "class ImageClassificationNet(nn.Module):\n",
    "    def __init__(self):\n",
    "        super(ImageClassificationNet, self).__init__()\n",
    "        # Takes an input with 1 channel , outputs 6 feature maps, uses a 5x5 kernel\n",
    "        self.conv1 = nn.Conv2d(1, 6, 5)\n",
    "        # Takes 6 input feature maps from the previous layer, outputs 16 feature maps, uses a 5x5 kernel\n",
    "        self.conv2 = nn.Conv2d(6, 16, 5)\n",
    "        # Define a max pooling layer to downsample the feature maps by a factor of 2\n",
    "        self.pool = nn.MaxPool2d(2, 2)\n",
    "        # Takes the flattened output from the convolutional layers (16 feature maps of size 5x5) and outputs 120 units\n",
    "        self.fc1 = nn.Linear(16 * 4 * 4, 120)\n",
    "        # Define the second fully connected layer, which maps 120 units to 84 units\n",
    "        self.fc2 = nn.Linear(120, 84)\n",
    "        # 10 classes for classification\n",
    "        self.fc3 = nn.Linear(84, 10)\n",
    "\n",
    "    def forward(self, x):\n",
    "        # Pass input `x` through the first convolutional layer, apply ReLU activation, then apply max pooling\n",
    "        x = self.pool(F.relu(self.conv1(x)))\n",
    "        # Pass the result through the second convolutional layer, apply ReLU activation, then apply max pooling\n",
    "        x = self.pool(F.relu(self.conv2(x)))\n",
    "        # Flatten the feature maps into a 1D vector, keeping the batch dimension\n",
    "        x = torch.flatten(x, 1)\n",
    "        # Pass through the first fully connected layer and apply ReLU activation\n",
    "        x = F.relu(self.fc1(x))\n",
    "        # Pass through the second fully connected layer and apply ReLU activation\n",
    "        x = F.relu(self.fc2(x))\n",
    "        # Pass through the third fully connected layer to get the output (raw scores for each class)\n",
    "        x = self.fc3(x)\n",
    "        # Return the output scores (logits) for each class\n",
    "        return x\n"
   ]
  },
  {
   "cell_type": "markdown",
   "metadata": {},
   "source": [
    "# Create the Model"
   ]
  },
  {
   "cell_type": "code",
   "execution_count": 3,
   "metadata": {},
   "outputs": [],
   "source": [
    "# Remember how to check for GPU?\n",
    "import torch\n",
    "\n",
    "# Set the device\n",
    "device = torch.device(\"cuda\" if torch.cuda.is_available() else \"cpu\")"
   ]
  },
  {
   "cell_type": "code",
   "execution_count": null,
   "metadata": {},
   "outputs": [],
   "source": [
    "# Creates an instance of our model\n",
    "model = ImageClassificationNet().to(device)\n",
    "\n",
    "# Print it\n",
    "print(model)"
   ]
  },
  {
   "cell_type": "markdown",
   "metadata": {},
   "source": [
    "# Loss Funtion and Optimizer\n",
    "Use same as above"
   ]
  },
  {
   "cell_type": "code",
   "execution_count": 5,
   "metadata": {},
   "outputs": [],
   "source": [
    "import torch.optim as optim\n",
    "\n",
    "criterion = nn.CrossEntropyLoss()\n",
    "optimizer = optim.SGD(model.parameters(), lr=0.001, momentum=0.9)"
   ]
  },
  {
   "cell_type": "markdown",
   "metadata": {},
   "source": [
    "# Create a Training Loop\n",
    "A training loop in PyTorch is the process of iteratively feeding data through a model, calculating the loss, and updating the model’s parameters to minimize that loss. \n",
    "\n",
    "This loop continues for a set number of epochs or until the model reaches satisfactory performance on the training data."
   ]
  },
  {
   "cell_type": "code",
   "execution_count": 6,
   "metadata": {},
   "outputs": [],
   "source": [
    "# Define our number of training loops\n",
    "N_EPOCHS = 3"
   ]
  },
  {
   "cell_type": "code",
   "execution_count": null,
   "metadata": {},
   "outputs": [],
   "source": [
    "for epoch in range(N_EPOCHS):  # Loop over the dataset N_EPOCH times\n",
    "    \n",
    "    running_loss = 0.0  # Initialize the running loss for the current epoch\n",
    "    \n",
    "    # Loop over the training data in batches\n",
    "    for i, data in enumerate(train_loader, 0):\n",
    "        inputs, labels = data  # Unpack the data; inputs are the images, labels are the classes\n",
    "        \n",
    "        optimizer.zero_grad()  # Clear the gradients for the optimizer to avoid accumulation from previous steps\n",
    "\n",
    "        outputs = model(inputs)  # Forward pass: compute the model's predictions on the inputs\n",
    "        loss = criterion(outputs, labels)  # Calculate the loss by comparing predictions to true labels\n",
    "        loss.backward()  # Backward pass: compute gradients of the loss with respect to model parameters\n",
    "        optimizer.step()  # Update model parameters based on the computed gradients\n",
    "        \n",
    "        running_loss += loss.item()  # Accumulate the loss for the current epoch\n",
    "\n",
    "    # Print the average loss for this epoch by dividing the accumulated loss by the number of batches\n",
    "    print(f\"Epoch: {epoch} Loss: {running_loss/len(train_loader)}\")\n"
   ]
  },
  {
   "cell_type": "markdown",
   "metadata": {},
   "source": [
    "# Create a Training Loop with Validation"
   ]
  },
  {
   "cell_type": "code",
   "execution_count": null,
   "metadata": {},
   "outputs": [],
   "source": [
    "for epoch in range(N_EPOCHS):  # Loop over the dataset N_EPOCH times\n",
    "    \n",
    "    ####### TRAINING\n",
    "    training_loss = 0.0  # Initialize the training loss for the current epoch\n",
    "    # Set the model to training mode\n",
    "    model.train()\n",
    "    # Loop over the training data in batches\n",
    "    for i, data in enumerate(train_loader, 0):\n",
    "        inputs, labels = data  # Unpack the data; inputs are the images, labels are the classes\n",
    "        \n",
    "        optimizer.zero_grad()  # Clear the gradients for the optimizer to avoid accumulation from previous steps\n",
    "\n",
    "        outputs = model(inputs)  # Forward pass: compute the model's predictions on the inputs\n",
    "        loss = criterion(outputs, labels)  # Calculate the loss by comparing predictions to true labels\n",
    "        loss.backward()  # Backward pass: compute gradients of the loss with respect to model parameters\n",
    "        optimizer.step()  # Update model parameters based on the computed gradients\n",
    "        \n",
    "        training_loss += loss.item()  # Accumulate the training loss for the current epoch\n",
    "\n",
    "    ######## VALIDATION\n",
    "    val_loss = 0.0 # Initialize the validation loss for the current epoch\n",
    "    # Set the model to evaluation \n",
    "    model.eval()\n",
    "\n",
    "    # Loop over the validation data in batches\n",
    "    for i, data in enumerate(val_loader, 0):\n",
    "        inputs, labels = data  # Unpack the data like we do above\n",
    "        \n",
    "        outputs = model(inputs)  # Compute predictions\n",
    "        loss = criterion(outputs, labels)  # Calculate the loss by\n",
    "        \n",
    "        #### NOTICE we do not compute gradients and/or adjust weights #### \n",
    "        val_loss += loss.item()  # Accumulate the loss for the current epoch\n",
    "\n",
    "    # Print the training loss and the val loss\n",
    "    print(f\"Epoch: {epoch} Train Loss: {training_loss/len(train_loader)} Val Loss: {val_loss/len(val_loader)}\")"
   ]
  },
  {
   "cell_type": "markdown",
   "metadata": {},
   "source": [
    "# About Loss\n",
    "If validation continues to decrease, its performing well.\n",
    "\n",
    "If training continues to decrease but validation does not, its likely that its overfitting.\n",
    "\n",
    "Likely we would need many more epochs to train an accurate model."
   ]
  },
  {
   "cell_type": "markdown",
   "metadata": {},
   "source": []
  }
 ],
 "metadata": {
  "kernelspec": {
   "display_name": "venv",
   "language": "python",
   "name": "python3"
  },
  "language_info": {
   "codemirror_mode": {
    "name": "ipython",
    "version": 3
   },
   "file_extension": ".py",
   "mimetype": "text/x-python",
   "name": "python",
   "nbconvert_exporter": "python",
   "pygments_lexer": "ipython3",
   "version": "3.12.4"
  }
 },
 "nbformat": 4,
 "nbformat_minor": 2
}
