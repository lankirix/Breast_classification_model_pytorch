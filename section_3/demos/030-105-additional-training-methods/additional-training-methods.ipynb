{
 "cells": [
  {
   "cell_type": "markdown",
   "metadata": {},
   "source": [
    "# Additional Training Methods Review\n",
    "These additional training methods can help make your models become more accurate and perform better as your data grows and/or you model becomes more complex.\n",
    "\n",
    "In this demo we are going to demonstrate how to use Transfer Learning to train a model, introduce how to use Learning Rate Schedulers and how to share your models with the community. "
   ]
  },
  {
   "cell_type": "markdown",
   "metadata": {},
   "source": [
    "# Transfer Learning"
   ]
  },
  {
   "cell_type": "code",
   "execution_count": 1,
   "metadata": {},
   "outputs": [],
   "source": [
    "# Import PyTorch vision models\n",
    "from torchvision import models"
   ]
  },
  {
   "cell_type": "code",
   "execution_count": null,
   "metadata": {},
   "outputs": [],
   "source": [
    "# Print available models\n",
    "print(models.list_models())\n",
    "# Print number of availabl models\n",
    "print(f\"Number available: {len(models.list_models())}\")"
   ]
  },
  {
   "cell_type": "code",
   "execution_count": null,
   "metadata": {},
   "outputs": [],
   "source": [
    "# Load a pre-trained model from pytorch\n",
    "model = models.vgg19(pretrained=True)"
   ]
  },
  {
   "cell_type": "code",
   "execution_count": 4,
   "metadata": {},
   "outputs": [],
   "source": [
    "# Load with weights argument (new API)\n",
    "model = models.vgg19(weights=models.VGG19_Weights.DEFAULT)"
   ]
  },
  {
   "cell_type": "code",
   "execution_count": null,
   "metadata": {},
   "outputs": [],
   "source": [
    "# Show the parameters \n",
    "print(model.state_dict())"
   ]
  },
  {
   "cell_type": "code",
   "execution_count": null,
   "metadata": {},
   "outputs": [],
   "source": [
    "# Show the classifier layers\n",
    "print(model.classifier)"
   ]
  },
  {
   "cell_type": "code",
   "execution_count": 38,
   "metadata": {},
   "outputs": [],
   "source": [
    "import torch.nn as nn\n",
    "\n",
    "# Modify the output layer\n",
    "model.classifier[6] = nn.Linear(4096, 20) # Setting number of classes to 20"
   ]
  },
  {
   "cell_type": "code",
   "execution_count": null,
   "metadata": {},
   "outputs": [],
   "source": [
    "# Show the updates\n",
    "print(model.classifier)"
   ]
  },
  {
   "cell_type": "markdown",
   "metadata": {},
   "source": [
    "# PyTorch Hub\n",
    "Not literally a Hub hosted by PyTorch but a way of sharing models with the community through Github.\n",
    "\n",
    "Pytorch provides an easy to use module for interacting."
   ]
  },
  {
   "cell_type": "code",
   "execution_count": 28,
   "metadata": {},
   "outputs": [],
   "source": [
    "# Listing Available Models\n",
    "from torch import hub"
   ]
  },
  {
   "cell_type": "code",
   "execution_count": null,
   "metadata": {},
   "outputs": [],
   "source": [
    "# List using a Github repo\n",
    "hub.list('pytorch/vision:v0.10.0') # version"
   ]
  },
  {
   "cell_type": "code",
   "execution_count": null,
   "metadata": {},
   "outputs": [],
   "source": [
    "# List available yolov5 models\n",
    "hub.list('ultralytics/yolov5')"
   ]
  },
  {
   "cell_type": "markdown",
   "metadata": {},
   "source": [
    "Visit https://pytorch.org/hub/ for others"
   ]
  },
  {
   "cell_type": "markdown",
   "metadata": {},
   "source": [
    "# Loading Models"
   ]
  },
  {
   "cell_type": "code",
   "execution_count": 31,
   "metadata": {},
   "outputs": [],
   "source": [
    "# Import hub\n",
    "from torch import hub "
   ]
  },
  {
   "cell_type": "code",
   "execution_count": null,
   "metadata": {},
   "outputs": [],
   "source": [
    "# Load one of the yolov5 models\n",
    "model = hub.load('ultralytics/yolov5', 'yolov5s') "
   ]
  },
  {
   "cell_type": "code",
   "execution_count": null,
   "metadata": {},
   "outputs": [],
   "source": [
    "# Frome the Yolo documentation\n",
    "# Images\n",
    "imgs = ['cat-1.jpg', 'zidane.jpg']  # batch of images\n",
    "\n",
    "# Inference\n",
    "results = model(imgs)\n",
    "\n",
    "# Results\n",
    "results.print()"
   ]
  },
  {
   "cell_type": "code",
   "execution_count": null,
   "metadata": {},
   "outputs": [],
   "source": [
    "# Load weights\n",
    "weights = hub.load(\"pytorch/vision\", \"get_model_weights\", name=\"resnet50\")"
   ]
  },
  {
   "cell_type": "code",
   "execution_count": null,
   "metadata": {},
   "outputs": [],
   "source": [
    "# Load the model with specific weights\n",
    "model = hub.load(\"pytorch/vision\", \"resnet50\", weights=weights.DEFAULT)"
   ]
  },
  {
   "cell_type": "markdown",
   "metadata": {},
   "source": [
    "# Deploying to PyTorch Hub\n",
    "Have a look at the `hubconf.py` file."
   ]
  },
  {
   "cell_type": "code",
   "execution_count": null,
   "metadata": {},
   "outputs": [],
   "source": [
    "# Load our Model with and parameters\n",
    "import torch\n",
    "\n",
    "model = torch.hub.load('kodekloudhub/PyTorch', 'fake_model', pretrained=True) # Set to true"
   ]
  },
  {
   "cell_type": "code",
   "execution_count": null,
   "metadata": {},
   "outputs": [],
   "source": [
    "# Print the state_dict\n",
    "print(model.state_dict())"
   ]
  },
  {
   "cell_type": "code",
   "execution_count": null,
   "metadata": {},
   "outputs": [],
   "source": [
    "# List our model\n",
    "torch.hub.list('kodekloudhub/PyTorch')"
   ]
  },
  {
   "cell_type": "code",
   "execution_count": null,
   "metadata": {},
   "outputs": [],
   "source": [
    "# Get help about our model\n",
    "torch.hub.help('kodekloudhub/PyTorch', 'fake_model')"
   ]
  },
  {
   "cell_type": "code",
   "execution_count": null,
   "metadata": {},
   "outputs": [],
   "source": [
    "# Load model without parameters\n",
    "import torch\n",
    "\n",
    "model = torch.hub.load('kodekloudhub/PyTorch', 'fake_model', pretrained=False) # Set to False"
   ]
  },
  {
   "cell_type": "code",
   "execution_count": null,
   "metadata": {},
   "outputs": [],
   "source": [
    "# Show the model\n",
    "print(model)"
   ]
  },
  {
   "cell_type": "code",
   "execution_count": null,
   "metadata": {},
   "outputs": [],
   "source": [
    "# Modify the outputs\n",
    "model.fc2 = nn.Linear(50, 2)\n",
    "\n",
    "print(model)"
   ]
  },
  {
   "cell_type": "markdown",
   "metadata": {},
   "source": [
    "# Learning Rate Schedulers\n",
    "A learning rate scheduler dynamically adjusts the learning rate during training to improve how a model learns and converges. \n",
    "\n",
    "It helps prevent overshooting or inefficient updates by reducing the learning rate at specific intervals or based on performance. "
   ]
  },
  {
   "cell_type": "code",
   "execution_count": 13,
   "metadata": {},
   "outputs": [],
   "source": [
    "# Import the modules\n",
    "import torch.optim as optim"
   ]
  },
  {
   "cell_type": "code",
   "execution_count": 14,
   "metadata": {},
   "outputs": [],
   "source": [
    "# Define the optimizer\n",
    "optimizer = optim.SGD(model.parameters(), lr=0.01)"
   ]
  },
  {
   "cell_type": "code",
   "execution_count": 15,
   "metadata": {},
   "outputs": [],
   "source": [
    "# Finally create the scheduler\n",
    "scheduler = optim.lr_scheduler.StepLR(optimizer, step_size=5, gamma=0.1) \n",
    "# reduces by a factor of 0.1 every 5 epochs\n"
   ]
  },
  {
   "cell_type": "code",
   "execution_count": 16,
   "metadata": {},
   "outputs": [],
   "source": [
    "# Another scheduler\n",
    "scheduler = optim.lr_scheduler.ExponentialLR(optimizer, gamma=0.1, last_epoch=-1) \n",
    "# lr decays by multiplying with 0.1 every epoch."
   ]
  },
  {
   "cell_type": "code",
   "execution_count": 17,
   "metadata": {},
   "outputs": [],
   "source": [
    "# Another scheduler \n",
    "scheduler = optim.lr_scheduler.ReduceLROnPlateau(optimizer, mode='min', factor=0.1, patience=2) \n",
    "# monitors a metric and reduces the lr by a factor of 0.1 if no improvement is seen for 2 epochs"
   ]
  },
  {
   "cell_type": "code",
   "execution_count": null,
   "metadata": {},
   "outputs": [],
   "source": [
    "# Has a state_dict!\n",
    "print(scheduler.state_dict())"
   ]
  },
  {
   "cell_type": "markdown",
   "metadata": {},
   "source": [
    "# Training a Model using a pre-trained model\n",
    "Lets go through the process of creating a simple training loop using a pre-trained model and include out learning rate scheduler"
   ]
  },
  {
   "cell_type": "code",
   "execution_count": null,
   "metadata": {},
   "outputs": [],
   "source": [
    "# Define our model\n",
    "from torchvision import models\n",
    "\n",
    "print(models.list_models())\n"
   ]
  },
  {
   "cell_type": "code",
   "execution_count": 26,
   "metadata": {},
   "outputs": [],
   "source": [
    "# Model\n",
    "model = models.vgg19(weights=models.VGG19_Weights.DEFAULT)"
   ]
  },
  {
   "cell_type": "code",
   "execution_count": null,
   "metadata": {},
   "outputs": [],
   "source": [
    "# Define the dataset, transformations and dataloaders\n",
    "import torch\n",
    "import torchvision.transforms.v2 as v2\n",
    "from torchvision import datasets\n",
    "\n",
    "transform = v2.Compose([\n",
    "    v2.Resize(224, 224),\n",
    "    v2.RandomHorizontalFlip(),\n",
    "    v2.ToImage(), \n",
    "    v2.ToDtype(torch.float32, scale=True),\n",
    "    v2.Normalize([0.485, 0.456, 0.406], [0.229, 0.224, 0.225]) # Important Normalization\n",
    "])"
   ]
  },
  {
   "cell_type": "code",
   "execution_count": null,
   "metadata": {},
   "outputs": [],
   "source": [
    "# CIFAR Dataset consists of 10 classes\n",
    "# plane, car, bird, cat, deer, dog, frog, horse, ship, truck\n",
    "trainset = datasets.CIFAR10(root='./data', train=False,\n",
    "                                        download=True, transform=transform)\n",
    "trainloader = torch.utils.data.DataLoader(trainset, batch_size=4,\n",
    "                                          shuffle=True, num_workers=1)"
   ]
  },
  {
   "cell_type": "code",
   "execution_count": null,
   "metadata": {},
   "outputs": [],
   "source": [
    "import torch.nn as nn\n",
    "# Now update the final layer\n",
    "model.classifier[-1] = nn.Linear(4096, 10)"
   ]
  },
  {
   "cell_type": "code",
   "execution_count": 8,
   "metadata": {},
   "outputs": [],
   "source": [
    "# For this model training we are only going to train the final layer (Feature Extraction)\n",
    "for param in model.parameters():\n",
    "    param.requires_grad = False\n",
    "\n",
    "# setting requires_grad = False so that the gradients are not computed in backward()"
   ]
  },
  {
   "cell_type": "code",
   "execution_count": 9,
   "metadata": {},
   "outputs": [],
   "source": [
    "# Unfreeze only the last layer\n",
    "for param in model.classifier[-1].parameters():\n",
    "    param.requires_grad = True"
   ]
  },
  {
   "cell_type": "code",
   "execution_count": null,
   "metadata": {},
   "outputs": [],
   "source": [
    "# Print layers\n",
    "for name, param in model.named_parameters():\n",
    "    print(f\"Layer: {name}, requires_grad: {param.requires_grad}\")"
   ]
  },
  {
   "cell_type": "code",
   "execution_count": 19,
   "metadata": {},
   "outputs": [],
   "source": [
    "# Define our Loss function, optimizer and scheduler\n",
    "criterion = nn.CrossEntropyLoss()\n",
    "\n",
    "optimizer = optim.SGD(model.classifier[-1].parameters(), lr=0.001, momentum=0.9) # notice the optimizer\n",
    "\n",
    "scheduler = optim.lr_scheduler.StepLR(optimizer, step_size=1, gamma=0.1)\n"
   ]
  },
  {
   "cell_type": "code",
   "execution_count": null,
   "metadata": {},
   "outputs": [],
   "source": [
    "# Run a training loop \n",
    "N_EPOCHS = 10\n",
    "\n",
    "for epoch in range(N_EPOCHS):  # Loop over the dataset N_EPOCH times\n",
    "    \n",
    "    running_loss = 0.0 \n",
    "    \n",
    "    # Loop over the training data in batches\n",
    "    for i, data in enumerate(trainloader, 0):\n",
    "        inputs, labels = data  \n",
    "        # Clear gradients\n",
    "        optimizer.zero_grad()  \n",
    "\n",
    "        outputs = model(inputs)  \n",
    "        loss = criterion(outputs, labels)  \n",
    "        loss.backward()  \n",
    "        optimizer.step()  \n",
    "        \n",
    "        running_loss += loss.item()  \n",
    "\n",
    "    # Print the average loss for this epoch \n",
    "    print(f\"Epoch: {epoch} Loss: {running_loss/len(trainloader)}\")\n",
    "\n",
    "    # Step the scheduler at the end of the epoch\n",
    "    scheduler.step()\n",
    "    \n",
    "    ######### Save a checkpoint every 2 epochs\n",
    "    if epoch % 2 == 0:\n",
    "        torch.save({'epoch': epoch,\n",
    "                'model_state_dict': model.state_dict(),\n",
    "                'optimizer_state_dict': optimizer.state_dict(),\n",
    "                'scheduler_state_dict': scheduler.state_dict(),  # Save scheduler state\n",
    "                'loss': loss}, \n",
    "                f'training_checkpoint_{epoch}.tar')\n",
    "\n",
    "# Save the final checkpoint after the last epoch\n",
    "torch.save({\n",
    "    'epoch': N_EPOCHS,\n",
    "    'model_state_dict': model.state_dict(),\n",
    "    'optimizer_state_dict': optimizer.state_dict(),\n",
    "    'scheduler_state_dict': scheduler.state_dict(),  # Save scheduler state\n",
    "    'loss': loss\n",
    "}, 'training_checkpoint_final.tar')"
   ]
  },
  {
   "cell_type": "code",
   "execution_count": null,
   "metadata": {},
   "outputs": [],
   "source": []
  }
 ],
 "metadata": {
  "kernelspec": {
   "display_name": "venv",
   "language": "python",
   "name": "python3"
  },
  "language_info": {
   "codemirror_mode": {
    "name": "ipython",
    "version": 3
   },
   "file_extension": ".py",
   "mimetype": "text/x-python",
   "name": "python",
   "nbconvert_exporter": "python",
   "pygments_lexer": "ipython3",
   "version": "3.12.4"
  }
 },
 "nbformat": 4,
 "nbformat_minor": 2
}
