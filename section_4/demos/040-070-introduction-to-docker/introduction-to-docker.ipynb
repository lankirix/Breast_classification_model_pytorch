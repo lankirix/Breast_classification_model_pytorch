{
 "cells": [
  {
   "cell_type": "markdown",
   "metadata": {},
   "source": [
    "# Docker\n",
    "In this demo we are going to go through the process of utilizing Docker as part of the Model Deployment process.\n",
    "\n",
    "We will cover Docker basics, build an image with our containing our flask app, push it to a repo, and finally run a container from the image."
   ]
  },
  {
   "cell_type": "markdown",
   "metadata": {},
   "source": [
    "## Installing Docker\n",
    "You can install the Docker engine on Linux, Windows and Mac.\n",
    "\n",
    "Below steps uses Ubuntu using `apt`."
   ]
  },
  {
   "cell_type": "markdown",
   "metadata": {},
   "source": [
    "### First we need to add the official GPG Key\n",
    "\n",
    "```bash\n",
    "apt-get update\n",
    "apt-get install ca-certificates curl\n",
    "install -m 0755 -d /etc/apt/keyrings\n",
    "curl -fsSL https://download.docker.com/linux/ubuntu/gpg -o /etc/apt/keyrings/docker.asc\n",
    "chmod a+r /etc/apt/keyrings/docker.asc\n",
    "```"
   ]
  },
  {
   "cell_type": "markdown",
   "metadata": {},
   "source": [
    "### Next we need to add the repository to Apt sources.\n",
    "\n",
    "```bash\n",
    "echo \\\n",
    "  \"deb [arch=$(dpkg --print-architecture) signed-by=/etc/apt/keyrings/docker.asc] https://download.docker.com/linux/ubuntu \\\n",
    "  $(. /etc/os-release && echo \"$VERSION_CODENAME\") stable\" | \\\n",
    "  \n",
    "  tee /etc/apt/sources.list.d/docker.list > /dev/null\n",
    "```\n"
   ]
  },
  {
   "cell_type": "markdown",
   "metadata": {},
   "source": [
    "### Run the installation of the CLI and the Engine\n",
    "\n",
    "```bash\n",
    "apt-get update\n",
    "apt-get install docker-ce docker-ce-cli containerd.io docker-buildx-plugin docker-compose-plugin -y\n",
    "```"
   ]
  },
  {
   "cell_type": "markdown",
   "metadata": {},
   "source": [
    "### Start and enable the service\n",
    "```bash\n",
    "systemctl start docker.service\n",
    "systemctl enable docker.service\n",
    "```"
   ]
  },
  {
   "cell_type": "markdown",
   "metadata": {},
   "source": [
    "### Verify the installation\n",
    "```bash\n",
    "docker version\n",
    "docker run hello-world\n",
    "```"
   ]
  },
  {
   "cell_type": "markdown",
   "metadata": {},
   "source": [
    "## Building a Docker image\n",
    "Building a Docker image involves using the `docker build` command to package an application and its dependencies into a portable template called an image. \n",
    "\n",
    "This process uses a Dockerfile, which are instructions to define the image’s contents and configuration.\n",
    "\n",
    "In the same path as the Dockerfile.\n",
    "\n",
    "```bash \n",
    "docker build -t mobilenetv3lg-flask:v1.0 .\n",
    "```\n",
    "\n",
    "NOTE: the size of the image on initial build."
   ]
  },
  {
   "cell_type": "markdown",
   "metadata": {},
   "source": [
    "## Creating a Dockerfile\n",
    "Creating a Dockerfile involves writing a simple text file that defines the steps to package an application into a Docker image. \n",
    "\n",
    "It includes instructions such as the base image to use, dependencies to install, files to include, and the commands to run the application.\n",
    "\n",
    "```bash\n",
    "# Use official Python base image\n",
    "FROM python:3.11-slim\n",
    "\n",
    "# Set the working directory\n",
    "WORKDIR /opt/app\n",
    "\n",
    "# Copy requirements and install dependencies\n",
    "COPY requirements.txt .\n",
    "RUN pip install --no-cache-dir -r requirements.txt\n",
    "\n",
    "# Copy app code\n",
    "COPY ./flask_app .\n",
    "\n",
    "# Create a user and group for running the app\n",
    "RUN groupadd -r pytorch && useradd --no-log-init -r -g pytorch pytorch\n",
    "\n",
    "# Change ownership of the home directory\n",
    "RUN chown -R pytorch:pytorch /home/pytorch\n",
    "\n",
    "# Change ownership of the app directory\n",
    "RUN chown -R pytorch:pytorch /opt/app\n",
    "\n",
    "# Switch to the created user\n",
    "USER pytorch\n",
    "\n",
    "# Expose the port for Flask\n",
    "EXPOSE 8000\n",
    "\n",
    "# Command to run the app\n",
    "CMD [\"flask\", \"run\", \"--host=0.0.0.0\", \"--port=8000\"]\n",
    "\n",
    "```"
   ]
  },
  {
   "cell_type": "markdown",
   "metadata": {},
   "source": [
    " ## Running a Container from an Image\n",
    "Once we have our model built we can run a container from our model using the `docker run` command.\n",
    "\n",
    "```bash\n",
    "docker run -p 8000:8000 mobilenetv3lg-flask:v1.0\n",
    "```\n",
    "\n",
    "NOTE: add a `-d` command makes it run in daemon mode where it starts and runs until killed but docker CLI."
   ]
  },
  {
   "cell_type": "code",
   "execution_count": null,
   "metadata": {},
   "outputs": [],
   "source": [
    "# Test a request\n",
    "import requests\n",
    "import base64\n",
    "\n",
    "# Open image and encode it\n",
    "with open('dog-1.jpg', 'rb') as img_file:\n",
    "    base64_string = base64.b64encode(img_file.read()).decode('utf-8')\n",
    "\n",
    "# JSON payload with the Base64 encoded image\n",
    "payload = {\n",
    "    \"image\": base64_string\n",
    "}\n",
    "\n",
    "# Set the headers\n",
    "headers = {\n",
    "    \"Content-Type\": \"application/json\"\n",
    "}\n",
    "\n",
    "# Send POST request\n",
    "response = requests.post(\"http://127.0.0.1:8000/predict\", \n",
    "                         json=payload, \n",
    "                         headers=headers)\n",
    "\n",
    "# Print the response\n",
    "print(\"Response JSON:\", response.json())"
   ]
  },
  {
   "cell_type": "code",
   "execution_count": null,
   "metadata": {},
   "outputs": [],
   "source": [
    "import json \n",
    "\n",
    "# Downloaded from Hugging Face\n",
    "# https://huggingface.co/datasets/huggingface/label-files/blob/main/imagenet-1k-id2label.json\n",
    "with open(\"labels.json\", \"r\") as f:\n",
    "    imagenet_classes = json.load(f)\n",
    "\n",
    "# Get the actual class name from our labels\n",
    "print(imagenet_classes['207'])"
   ]
  },
  {
   "cell_type": "markdown",
   "metadata": {},
   "source": [
    "## Push a Docker Image to a Registry\n",
    "Once you have tested your image, you can push it to a registry for others to use. \n",
    "\n",
    "Pushing an image to a Docker registry involves tagging the image with the registry name and using the docker push command to upload it.\n",
    "\n",
    "```bash\n",
    "docker tag mobilenetv3lg-flask:v1.0 username/mobilenetv3lg-flask:v1.0\n",
    "```\n",
    "\n",
    "Then push it.\n",
    "```bash\n",
    "docker push username/mobilenetv3lg-flask:v1.0\n",
    "```\n",
    "\n",
    "NOTE: You must be authenticated before logging in. You can use `docker login` command for docker registry."
   ]
  },
  {
   "cell_type": "markdown",
   "metadata": {},
   "source": [
    "## Pulling an Image\n",
    "Once the image lives on a registry, anyone with access can pull the image and create a container from it.\n",
    "\n",
    "```bash\n",
    "docker pull username/mobilenetv3lg-flask:v1.0\n",
    "```\n",
    "\n",
    "```bash\n",
    "docker run -p 8000:8000 username/mobilenetv3lg-flask:v1.0\n",
    "```"
   ]
  }
 ],
 "metadata": {
  "kernelspec": {
   "display_name": "venv",
   "language": "python",
   "name": "python3"
  },
  "language_info": {
   "codemirror_mode": {
    "name": "ipython",
    "version": 3
   },
   "file_extension": ".py",
   "mimetype": "text/x-python",
   "name": "python",
   "nbconvert_exporter": "python",
   "pygments_lexer": "ipython3",
   "version": "3.12.4"
  }
 },
 "nbformat": 4,
 "nbformat_minor": 2
}
