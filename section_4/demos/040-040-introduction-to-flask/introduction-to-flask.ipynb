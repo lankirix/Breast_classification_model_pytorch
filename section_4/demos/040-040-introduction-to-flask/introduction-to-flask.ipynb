{
 "cells": [
  {
   "cell_type": "markdown",
   "metadata": {},
   "source": [
    "# Introduction to Flask\n",
    "In this demo we will take show how to serve models with Flask as part of Model deployment."
   ]
  },
  {
   "cell_type": "code",
   "execution_count": null,
   "metadata": {},
   "outputs": [],
   "source": [
    "# Install Flask\n",
    "!pip install Flask"
   ]
  },
  {
   "cell_type": "code",
   "execution_count": null,
   "metadata": {},
   "outputs": [],
   "source": [
    "# RESTART THE NOTEBOOK"
   ]
  },
  {
   "cell_type": "code",
   "execution_count": null,
   "metadata": {},
   "outputs": [],
   "source": [
    "# Show the version\n",
    "!python -m flask --version"
   ]
  },
  {
   "cell_type": "code",
   "execution_count": null,
   "metadata": {},
   "outputs": [],
   "source": [
    "# Setup Structure for Flask App\n",
    "!tree flask_app/"
   ]
  },
  {
   "cell_type": "markdown",
   "metadata": {},
   "source": [
    "# Create a Flask App\n",
    "We will follow along in the cells alongside our `app.py` file."
   ]
  },
  {
   "cell_type": "markdown",
   "metadata": {},
   "source": [
    "## Loading a model in Flask\n",
    "```py\n",
    "# Initialize Flask app\n",
    "app = Flask(__name__)\n",
    "\n",
    "# Load any other environment variables or variables here\n",
    "MY_SECRET = os.getenv('SECRET')\n",
    "\n",
    "# Load the MobileNetV3 Large pre-trained model\n",
    "model = models.mobilenet_v3_large(weights=models.MobileNet_V3_Large_Weights.DEFAULT)\n",
    "model.eval()  # Set model to evaluation mode\n",
    "\n",
    "```"
   ]
  },
  {
   "cell_type": "markdown",
   "metadata": {},
   "source": [
    "## Create an endpoint\n",
    "```py\n",
    "# Map URL to an endpoint and method\n",
    "@app.route('/predict', methods=['POST'])\n",
    "def predict():\n",
    "    # Retrieve the request\n",
    "    data = request.json\n",
    "    \n",
    "    # Transform input if needed\n",
    "    input_tensor = torch.tensor(data['input'])\n",
    "\n",
    "    # Get the prediction\n",
    "    output = model(input_tensor)\n",
    "    \n",
    "    # Return a response\n",
    "    return jsonify({'output': output.tolist()})\n",
    "\n",
    "```"
   ]
  },
  {
   "cell_type": "markdown",
   "metadata": {},
   "source": [
    "## request\n",
    "The `request` module in this code is part of Flask and is used to access data from incoming HTTP requests. \n",
    "\n",
    "Here, `request.json` parses the JSON payload sent with the POST request and converts it into a Python dictionary for easy access and processing.\n",
    "\n",
    "```py\n",
    "from flask import request\n",
    "\n",
    "@app.route('/predict', methods=['POST'])\n",
    "def predict():\n",
    "    # Retrieve the request\n",
    "    data = request.json\n",
    "```"
   ]
  },
  {
   "cell_type": "markdown",
   "metadata": {},
   "source": [
    "## jsonify\n",
    "`jsonify` is a Flask utility that converts Python dictionaries, lists, or other serializable objects into JSON format, which is the standard data format for API responses. \n",
    "\n",
    "It also sets the correct Content-Type header (application/json) in the HTTP response, ensuring clients recognize the data as JSON.\n",
    "\n",
    "```py\n",
    "from flask import jsonify\n",
    "\n",
    "# Return a response\n",
    "return jsonify({'output': output.tolist()})\n",
    "\n",
    "```\n"
   ]
  },
  {
   "cell_type": "markdown",
   "metadata": {},
   "source": [
    "## Health Endpoint\n",
    "If you can get a response, the server is healthy and running.\n",
    "\n",
    "```py\n",
    "# Health endpoint\n",
    "@app.route('/health', methods=['GET'])\n",
    "def health():\n",
    "    \"\"\"\n",
    "    Health check endpoint to confirm the app is running.\n",
    "    \"\"\"\n",
    "    return jsonify({'status': 'healthy'}), 200\n",
    "```"
   ]
  },
  {
   "cell_type": "markdown",
   "metadata": {},
   "source": [
    "## Logging\n",
    "Logging in the app to see what is happening and see if/where errors occur.\n",
    "\n",
    "```py\n",
    "except Exception as e:\n",
    "        logger.error(f\"Error during prediction: {str(e)}\")\n",
    "        response = {'error': str(e)}\n",
    "        logger.info(f\"Response for /predict: {response}\")\n",
    "        \n",
    "        return jsonify(response), 500\n",
    "```"
   ]
  },
  {
   "cell_type": "markdown",
   "metadata": {},
   "source": [
    "## Error Handling\n",
    "A best practice for a Production deployment.\n",
    "\n",
    "```py\n",
    "# Prediction endpoint\n",
    "@app.route('/predict', methods=['POST'])\n",
    "def predict():\n",
    "    # Error handling\n",
    "    try:\n",
    "        # Extract Base64 string from request JSON\n",
    "        data = request.json\n",
    "        if 'image' not in data:\n",
    "            # Return and error if there is no image in the request\n",
    "            return jsonify({'error': 'No image provided'}), 400\n",
    "        \n",
    "        # Decode the Base64 image string\n",
    "        image_data = base64.b64decode(data['image'])\n",
    "        image = Image.open(io.BytesIO(image_data)).convert('RGB')\n",
    "        \n",
    "        # Preprocess the image\n",
    "        transformed_img = preprocess(image).unsqueeze(0)\n",
    "        \n",
    "        # Perform inference\n",
    "        with torch.no_grad():\n",
    "            output = model(transformed_img)\n",
    "            _, predicted = torch.max(output.data, 1)\n",
    "            print(predicted)\n",
    "        \n",
    "        # Return our prediction\n",
    "        return jsonify({'prediction': predicted.item()})\n",
    "    \n",
    "    # Fail with our error in the response\n",
    "    except Exception as e:\n",
    "        return jsonify({'error': str(e)}), 500\n",
    "```"
   ]
  },
  {
   "cell_type": "markdown",
   "metadata": {},
   "source": [
    "## Run Flask server (Development mode)\n",
    "\n",
    "```bash\n",
    "> python app.py\n",
    "```"
   ]
  },
  {
   "cell_type": "markdown",
   "metadata": {},
   "source": [
    "## Send a request\n",
    "Sending binary data over HTTP."
   ]
  },
  {
   "cell_type": "code",
   "execution_count": null,
   "metadata": {},
   "outputs": [],
   "source": [
    "import base64\n",
    "\n",
    "with open('dog-1.jpg', 'rb') as img_file:\n",
    "    base64_string = base64.b64encode(img_file.read()).decode('utf-8')\n",
    "    print(base64_string)\n"
   ]
  },
  {
   "cell_type": "code",
   "execution_count": 32,
   "metadata": {},
   "outputs": [],
   "source": [
    "# Test a request using python requests library\n",
    "import requests\n",
    "\n",
    "# JSON payload with the Base64 encoded image\n",
    "payload = {\n",
    "    \"image\": base64_string\n",
    "}\n",
    "\n",
    "# Set the headers\n",
    "headers = {\n",
    "    \"Content-Type\": \"application/json\"\n",
    "}"
   ]
  },
  {
   "cell_type": "code",
   "execution_count": null,
   "metadata": {},
   "outputs": [],
   "source": [
    "# Send POST request\n",
    "response = requests.post(\"http://127.0.0.1:5000/predict\", \n",
    "                         json=payload, \n",
    "                         headers=headers)\n",
    "\n",
    "# Print the response\n",
    "print(\"Status Code:\", response.status_code)\n",
    "print(\"Response JSON:\", response.json())"
   ]
  },
  {
   "cell_type": "code",
   "execution_count": null,
   "metadata": {},
   "outputs": [],
   "source": [
    "# Check the health endpoint\n",
    "response = requests.get(\"http://127.0.0.1:5000/health\")\n",
    "\n",
    "# Print the response\n",
    "print(\"Status Code:\", response.status_code)\n",
    "print(\"Response JSON:\", response.json())"
   ]
  },
  {
   "cell_type": "markdown",
   "metadata": {},
   "source": [
    "## Test Error Handling\n",
    "Be sure to also check the logs."
   ]
  },
  {
   "cell_type": "code",
   "execution_count": null,
   "metadata": {},
   "outputs": [],
   "source": [
    "# Test error handling\n",
    "response = requests.post(\"http://127.0.0.1:5000/predict\",\n",
    "                         headers=headers)\n",
    "\n",
    "# Print the response\n",
    "print(\"Status Code:\", response.status_code)\n",
    "print(\"Response JSON:\", response.json())"
   ]
  },
  {
   "cell_type": "code",
   "execution_count": null,
   "metadata": {},
   "outputs": [],
   "source": [
    "# Send POST request\n",
    "response = requests.post(\"http://127.0.0.1:5000/predict\", \n",
    "                         json={\"video\": base64_string}, \n",
    "                         headers=headers)\n",
    "\n",
    "# Print the response\n",
    "print(\"Status Code:\", response.status_code)\n",
    "print(\"Response JSON:\", response.json())"
   ]
  },
  {
   "cell_type": "markdown",
   "metadata": {},
   "source": [
    "## Running Flask Server with Gunicorn\n",
    "This is considered a better way to serve a Flask app."
   ]
  },
  {
   "cell_type": "markdown",
   "metadata": {},
   "source": [
    "## Using Gunicorn\n",
    "```bash\n",
    "> gunicorn -w 2 -b 0.0.0.0:8080 app:app\n",
    "```"
   ]
  },
  {
   "cell_type": "code",
   "execution_count": null,
   "metadata": {},
   "outputs": [],
   "source": [
    "## Send Request\n",
    "# Send POST request\n",
    "response = requests.post(\"http://127.0.0.1:8080/predict\", \n",
    "                         json=payload, \n",
    "                         headers=headers)\n",
    "\n",
    "# Print the response\n",
    "print(\"Status Code:\", response.status_code)\n",
    "print(\"Response JSON:\", response.json())"
   ]
  },
  {
   "cell_type": "code",
   "execution_count": null,
   "metadata": {},
   "outputs": [],
   "source": [
    "import json \n",
    "\n",
    "# Downloaded from Hugging Face\n",
    "# https://huggingface.co/datasets/huggingface/label-files/blob/main/imagenet-1k-id2label.json\n",
    "with open(\"labels.json\", \"r\") as f:\n",
    "    imagenet_classes = json.load(f)\n"
   ]
  },
  {
   "cell_type": "code",
   "execution_count": null,
   "metadata": {},
   "outputs": [],
   "source": [
    "# Get the actual class name from our labels\n",
    "imagenet_classes['207']"
   ]
  }
 ],
 "metadata": {
  "kernelspec": {
   "display_name": "venv",
   "language": "python",
   "name": "python3"
  },
  "language_info": {
   "codemirror_mode": {
    "name": "ipython",
    "version": 3
   },
   "file_extension": ".py",
   "mimetype": "text/x-python",
   "name": "python",
   "nbconvert_exporter": "python",
   "pygments_lexer": "ipython3",
   "version": "3.12.4"
  }
 },
 "nbformat": 4,
 "nbformat_minor": 2
}
