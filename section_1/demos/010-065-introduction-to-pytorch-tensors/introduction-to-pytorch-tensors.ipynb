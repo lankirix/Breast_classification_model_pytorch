{
 "cells": [
  {
   "cell_type": "markdown",
   "metadata": {},
   "source": [
    "# Creating Tensors\n",
    "Go through the process of some different ways to create/intialize tensors."
   ]
  },
  {
   "cell_type": "code",
   "execution_count": 1,
   "metadata": {},
   "outputs": [],
   "source": [
    "# Begin by importing our torch library\n",
    "import torch"
   ]
  },
  {
   "cell_type": "code",
   "execution_count": 21,
   "metadata": {},
   "outputs": [],
   "source": [
    "# This is some helper code to help us better visualize what a tensor looks like\n",
    "# It will print an image of each of our layers as well as the \"rows\" and \"columns\" of each layer.\n",
    "import torch\n",
    "import matplotlib.pyplot as plt\n",
    "\n",
    "\n",
    "def visualize_tensor(tensor):\n",
    "    num_layers = tensor.size(0)  # Number of layers (4 in this case)\n",
    "    height, width = tensor.size(1), tensor.size(2)  # Extract height and width (82, 290)\n",
    "    \n",
    "    fig, axes = plt.subplots(1, num_layers, figsize=(15, 5))\n",
    "    \n",
    "    if num_layers == 1:\n",
    "        axes = [axes]\n",
    "    \n",
    "    for i in range(num_layers):\n",
    "        axes[i].imshow(tensor[i], cmap='gray', aspect='auto')\n",
    "        axes[i].set_title(f'Layer {i+1}')\n",
    "        \n",
    "        # Set axis labels to show rows (height) and columns (width)\n",
    "        axes[i].set_xlabel(f'Columns (Width): {width}')\n",
    "        axes[i].set_ylabel(f'Rows (Height): {height}')\n",
    "        \n",
    "        # Set x-ticks to show start, middle, and end column indices\n",
    "        axes[i].set_xticks([0, width // 2, width - 1])\n",
    "        axes[i].set_xticklabels([1, width // 2, width])\n",
    "        \n",
    "        # Set y-ticks to show start, middle, and end row indices\n",
    "        axes[i].set_yticks([0, height // 2, height - 1])\n",
    "        axes[i].set_yticklabels([1, height // 2, height])\n",
    "    \n",
    "    plt.tight_layout()\n",
    "    plt.show()\n"
   ]
  },
  {
   "cell_type": "code",
   "execution_count": null,
   "metadata": {},
   "outputs": [],
   "source": [
    "# Create a simple tensor from a list and print it \n",
    "simple_tensor = torch.tensor([1, 2, 3])\n",
    "\n",
    "print(simple_tensor)\n",
    "\n",
    "# Print its shape\n",
    "print(simple_tensor.shape)"
   ]
  },
  {
   "cell_type": "code",
   "execution_count": null,
   "metadata": {},
   "outputs": [],
   "source": [
    "# Create another simple tensor from 2 lists and print it\n",
    "# This time make it 2 Dimensional\n",
    "two_dim_simple_tensor = torch.tensor([[1,2,3],[4,5,6]])\n",
    "\n",
    "# Print its shape\n",
    "print(two_dim_simple_tensor.shape)"
   ]
  },
  {
   "cell_type": "code",
   "execution_count": null,
   "metadata": {},
   "outputs": [],
   "source": [
    "# Create tensor with random values and print it\n",
    "random_tensor = torch.rand(3)\n",
    "\n",
    "print(random_tensor)\n",
    "print(random_tensor.shape)"
   ]
  },
  {
   "cell_type": "code",
   "execution_count": null,
   "metadata": {},
   "outputs": [],
   "source": [
    "# Create another tensor with random values and print it\n",
    "another_random_tensor = torch.rand(3, 4, 5)\n",
    "\n",
    "print(another_random_tensor)\n",
    "print(another_random_tensor.shape)"
   ]
  },
  {
   "cell_type": "code",
   "execution_count": null,
   "metadata": {},
   "outputs": [],
   "source": [
    "# Lets visualize what this looks like (3 x 4 x 5 tensor)\n",
    "visualize_tensor(another_random_tensor)"
   ]
  },
  {
   "cell_type": "code",
   "execution_count": null,
   "metadata": {},
   "outputs": [],
   "source": [
    "# Creating a tensor filled with zeros and print it.\n",
    "zero_tensor = torch.zeros((2, 4))\n",
    "\n",
    "print(zero_tensor)"
   ]
  },
  {
   "cell_type": "code",
   "execution_count": null,
   "metadata": {},
   "outputs": [],
   "source": [
    "# Creating a tensor filled with ones and print it.\n",
    "zero_tensor = torch.ones((2, 4))\n",
    "\n",
    "print(zero_tensor)"
   ]
  },
  {
   "cell_type": "markdown",
   "metadata": {},
   "source": [
    "#### This is just a few ways to create tensors"
   ]
  },
  {
   "cell_type": "markdown",
   "metadata": {},
   "source": [
    "# Tensor Operations\n",
    "Go through the process of a few Tensor Operations to learn how to work with tensors after you create them"
   ]
  },
  {
   "cell_type": "code",
   "execution_count": null,
   "metadata": {},
   "outputs": [],
   "source": [
    "# Create a 3D tensor  \n",
    "tensor_a = torch.tensor([[10, 20, 30], [40, 50, 60], [70, 80, 90]])\n",
    "print(tensor_a)"
   ]
  },
  {
   "cell_type": "code",
   "execution_count": null,
   "metadata": {},
   "outputs": [],
   "source": [
    "# Accessing the first row\n",
    "first_row = tensor_a[0]\n",
    "\n",
    "print(first_row)"
   ]
  },
  {
   "cell_type": "code",
   "execution_count": null,
   "metadata": {},
   "outputs": [],
   "source": [
    "# Accessing the second row\n",
    "second_row = tensor_a[1]\n",
    "\n",
    "print(second_row)"
   ]
  },
  {
   "cell_type": "code",
   "execution_count": null,
   "metadata": {},
   "outputs": [],
   "source": [
    "# Access the first value in the second row\n",
    "second_row_first_value = second_row[0]\n",
    "\n",
    "print(second_row_first_value)"
   ]
  },
  {
   "cell_type": "code",
   "execution_count": null,
   "metadata": {},
   "outputs": [],
   "source": [
    "# Print tensor_a just for visual\n",
    "print(tensor_a)"
   ]
  },
  {
   "cell_type": "code",
   "execution_count": null,
   "metadata": {},
   "outputs": [],
   "source": [
    "# Access the first value in the second row with different code\n",
    "# Here the 1 is the first \"row\"\n",
    "# the 0 is the first \"column\"\n",
    "second_row_first_value = tensor_a[1, 0]\n",
    "\n",
    "print(second_row_first_value)"
   ]
  },
  {
   "cell_type": "code",
   "execution_count": null,
   "metadata": {},
   "outputs": [],
   "source": [
    "# Create a new tensor\n",
    "tensor_b = torch.tensor([[1, 2, 3], [4, 5, 6]])\n",
    "print(tensor_b)"
   ]
  },
  {
   "cell_type": "code",
   "execution_count": null,
   "metadata": {},
   "outputs": [],
   "source": [
    "# Lets join the tensors together (concat)\n",
    "concat_tensor = torch.cat((tensor_a, tensor_b), dim=0)\n",
    "print(concat_tensor)"
   ]
  },
  {
   "cell_type": "code",
   "execution_count": null,
   "metadata": {},
   "outputs": [],
   "source": [
    "# What if we concat on dim 1?\n",
    "concat_tensor = torch.cat((tensor_a, tensor_b), dim=1)\n"
   ]
  },
  {
   "cell_type": "markdown",
   "metadata": {},
   "source": [
    "# Working with Images as Tensors"
   ]
  },
  {
   "cell_type": "code",
   "execution_count": 1,
   "metadata": {},
   "outputs": [],
   "source": [
    "# Import Image from Pillow to open an image transforms from torchvision to convert image to a tensor\n",
    "from PIL import Image\n",
    "from torchvision import transforms"
   ]
  },
  {
   "cell_type": "code",
   "execution_count": null,
   "metadata": {},
   "outputs": [],
   "source": [
    "# Load the image.jpg into memory\n",
    "img = Image.open(\"/root/PyTorch/images/image.jpg\")\n",
    "\n",
    "# Create an instance of transforms using ToTensor()\n",
    "# We will cover this in greater detail when we start working with our dataset\n",
    "transform = transforms.ToTensor()\n",
    "\n",
    "# Transform our image into a tensor and print it\n",
    "img_tensor = transform(img)\n",
    "print(img_tensor)"
   ]
  },
  {
   "cell_type": "code",
   "execution_count": null,
   "metadata": {},
   "outputs": [],
   "source": [
    "# Show the attributes: Shape, dtype and device\n",
    "print(img_tensor.shape, img_tensor.dtype, img_tensor.device)"
   ]
  },
  {
   "cell_type": "markdown",
   "metadata": {},
   "source": [
    "## What Does torch.Size([4, 82, 290]) Mean?\n",
    "\n",
    "#### The tensor consists of 3 dimensions (3D):\n",
    "\n",
    "Dimension 1: This is the first number (4), which represents the number of channels.\n",
    "\n",
    "Dimension 2: This is the second number (82), which is the height of each slice (like rows).\n",
    "\n",
    "Dimension 3: This is the third number (290), which is the width of each slice (like columns)."
   ]
  },
  {
   "cell_type": "code",
   "execution_count": null,
   "metadata": {},
   "outputs": [],
   "source": [
    "# Visualize the tensor\n",
    "visualize_tensor(img_tensor)"
   ]
  },
  {
   "cell_type": "markdown",
   "metadata": {},
   "source": [
    "# Working with GPUs"
   ]
  },
  {
   "cell_type": "code",
   "execution_count": null,
   "metadata": {},
   "outputs": [],
   "source": [
    "# Check if GPU is available \n",
    "torch.cuda.is_available()"
   ]
  },
  {
   "cell_type": "code",
   "execution_count": 6,
   "metadata": {},
   "outputs": [],
   "source": [
    "# If GPU is available then use that at device when creating a tensor, if not use CPU\n",
    "if torch.cuda.is_available():\n",
    "    device = 'cuda'\n",
    "else:\n",
    "    device = 'cpu'"
   ]
  },
  {
   "cell_type": "code",
   "execution_count": null,
   "metadata": {},
   "outputs": [],
   "source": [
    "# Create tensor with device from above\n",
    "tensor = torch.tensor([1, 2, 3], device=device)\n",
    "print(tensor.device)"
   ]
  },
  {
   "cell_type": "code",
   "execution_count": null,
   "metadata": {},
   "outputs": [],
   "source": [
    "# Move a tensor from CPU to GPU\n",
    "tensor.to('cuda')"
   ]
  },
  {
   "cell_type": "code",
   "execution_count": null,
   "metadata": {},
   "outputs": [],
   "source": []
  }
 ],
 "metadata": {
  "kernelspec": {
   "display_name": "venv",
   "language": "python",
   "name": "python3"
  },
  "language_info": {
   "codemirror_mode": {
    "name": "ipython",
    "version": 3
   },
   "file_extension": ".py",
   "mimetype": "text/x-python",
   "name": "python",
   "nbconvert_exporter": "python",
   "pygments_lexer": "ipython3",
   "version": "3.11.4"
  }
 },
 "nbformat": 4,
 "nbformat_minor": 2
}
